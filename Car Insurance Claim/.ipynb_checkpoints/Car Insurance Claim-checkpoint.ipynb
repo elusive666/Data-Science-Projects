{
 "cells": [
  {
   "cell_type": "code",
   "execution_count": 1,
   "metadata": {},
   "outputs": [],
   "source": [
    "import numpy as np\n",
    "import pandas as pd\n",
    "import seaborn as sns\n",
    "import matplotlib.pyplot as plt\n",
    "from sklearn.model_selection import train_test_split"
   ]
  },
  {
   "cell_type": "markdown",
   "metadata": {},
   "source": [
    "# Data loading and cleaning"
   ]
  },
  {
   "cell_type": "code",
   "execution_count": 2,
   "metadata": {},
   "outputs": [
    {
     "data": {
      "text/html": [
       "<div>\n",
       "<style scoped>\n",
       "    .dataframe tbody tr th:only-of-type {\n",
       "        vertical-align: middle;\n",
       "    }\n",
       "\n",
       "    .dataframe tbody tr th {\n",
       "        vertical-align: top;\n",
       "    }\n",
       "\n",
       "    .dataframe thead th {\n",
       "        text-align: right;\n",
       "    }\n",
       "</style>\n",
       "<table border=\"1\" class=\"dataframe\">\n",
       "  <thead>\n",
       "    <tr style=\"text-align: right;\">\n",
       "      <th></th>\n",
       "      <th>ID</th>\n",
       "      <th>KIDSDRIV</th>\n",
       "      <th>AGE</th>\n",
       "      <th>HOMEKIDS</th>\n",
       "      <th>YOJ</th>\n",
       "      <th>INCOME</th>\n",
       "      <th>PARENT1</th>\n",
       "      <th>HOME_VAL</th>\n",
       "      <th>MSTATUS</th>\n",
       "      <th>GENDER</th>\n",
       "      <th>...</th>\n",
       "      <th>TIF</th>\n",
       "      <th>CAR_TYPE</th>\n",
       "      <th>RED_CAR</th>\n",
       "      <th>OLDCLAIM</th>\n",
       "      <th>CLM_FREQ</th>\n",
       "      <th>REVOKED</th>\n",
       "      <th>MVR_PTS</th>\n",
       "      <th>CLM_AMT</th>\n",
       "      <th>CAR_AGE</th>\n",
       "      <th>CLAIM_FLAG</th>\n",
       "    </tr>\n",
       "  </thead>\n",
       "  <tbody>\n",
       "    <tr>\n",
       "      <th>0</th>\n",
       "      <td>63581743</td>\n",
       "      <td>0</td>\n",
       "      <td>60.0</td>\n",
       "      <td>0</td>\n",
       "      <td>11.0</td>\n",
       "      <td>$67,349</td>\n",
       "      <td>No</td>\n",
       "      <td>$0</td>\n",
       "      <td>z_No</td>\n",
       "      <td>M</td>\n",
       "      <td>...</td>\n",
       "      <td>11</td>\n",
       "      <td>Minivan</td>\n",
       "      <td>yes</td>\n",
       "      <td>$4,461</td>\n",
       "      <td>2</td>\n",
       "      <td>No</td>\n",
       "      <td>3</td>\n",
       "      <td>$0</td>\n",
       "      <td>18.0</td>\n",
       "      <td>0</td>\n",
       "    </tr>\n",
       "    <tr>\n",
       "      <th>1</th>\n",
       "      <td>132761049</td>\n",
       "      <td>0</td>\n",
       "      <td>43.0</td>\n",
       "      <td>0</td>\n",
       "      <td>11.0</td>\n",
       "      <td>$91,449</td>\n",
       "      <td>No</td>\n",
       "      <td>$257,252</td>\n",
       "      <td>z_No</td>\n",
       "      <td>M</td>\n",
       "      <td>...</td>\n",
       "      <td>1</td>\n",
       "      <td>Minivan</td>\n",
       "      <td>yes</td>\n",
       "      <td>$0</td>\n",
       "      <td>0</td>\n",
       "      <td>No</td>\n",
       "      <td>0</td>\n",
       "      <td>$0</td>\n",
       "      <td>1.0</td>\n",
       "      <td>0</td>\n",
       "    </tr>\n",
       "    <tr>\n",
       "      <th>2</th>\n",
       "      <td>921317019</td>\n",
       "      <td>0</td>\n",
       "      <td>48.0</td>\n",
       "      <td>0</td>\n",
       "      <td>11.0</td>\n",
       "      <td>$52,881</td>\n",
       "      <td>No</td>\n",
       "      <td>$0</td>\n",
       "      <td>z_No</td>\n",
       "      <td>M</td>\n",
       "      <td>...</td>\n",
       "      <td>1</td>\n",
       "      <td>Van</td>\n",
       "      <td>yes</td>\n",
       "      <td>$0</td>\n",
       "      <td>0</td>\n",
       "      <td>No</td>\n",
       "      <td>2</td>\n",
       "      <td>$0</td>\n",
       "      <td>10.0</td>\n",
       "      <td>0</td>\n",
       "    </tr>\n",
       "    <tr>\n",
       "      <th>3</th>\n",
       "      <td>727598473</td>\n",
       "      <td>0</td>\n",
       "      <td>35.0</td>\n",
       "      <td>1</td>\n",
       "      <td>10.0</td>\n",
       "      <td>$16,039</td>\n",
       "      <td>No</td>\n",
       "      <td>$124,191</td>\n",
       "      <td>Yes</td>\n",
       "      <td>z_F</td>\n",
       "      <td>...</td>\n",
       "      <td>4</td>\n",
       "      <td>z_SUV</td>\n",
       "      <td>no</td>\n",
       "      <td>$38,690</td>\n",
       "      <td>2</td>\n",
       "      <td>No</td>\n",
       "      <td>3</td>\n",
       "      <td>$0</td>\n",
       "      <td>10.0</td>\n",
       "      <td>0</td>\n",
       "    </tr>\n",
       "    <tr>\n",
       "      <th>4</th>\n",
       "      <td>450221861</td>\n",
       "      <td>0</td>\n",
       "      <td>51.0</td>\n",
       "      <td>0</td>\n",
       "      <td>14.0</td>\n",
       "      <td>NaN</td>\n",
       "      <td>No</td>\n",
       "      <td>$306,251</td>\n",
       "      <td>Yes</td>\n",
       "      <td>M</td>\n",
       "      <td>...</td>\n",
       "      <td>7</td>\n",
       "      <td>Minivan</td>\n",
       "      <td>yes</td>\n",
       "      <td>$0</td>\n",
       "      <td>0</td>\n",
       "      <td>No</td>\n",
       "      <td>0</td>\n",
       "      <td>$0</td>\n",
       "      <td>6.0</td>\n",
       "      <td>0</td>\n",
       "    </tr>\n",
       "  </tbody>\n",
       "</table>\n",
       "<p>5 rows × 25 columns</p>\n",
       "</div>"
      ],
      "text/plain": [
       "          ID  KIDSDRIV   AGE  HOMEKIDS   YOJ   INCOME PARENT1  HOME_VAL  \\\n",
       "0   63581743         0  60.0         0  11.0  $67,349      No        $0   \n",
       "1  132761049         0  43.0         0  11.0  $91,449      No  $257,252   \n",
       "2  921317019         0  48.0         0  11.0  $52,881      No        $0   \n",
       "3  727598473         0  35.0         1  10.0  $16,039      No  $124,191   \n",
       "4  450221861         0  51.0         0  14.0      NaN      No  $306,251   \n",
       "\n",
       "  MSTATUS GENDER  ... TIF CAR_TYPE  RED_CAR OLDCLAIM CLM_FREQ  REVOKED  \\\n",
       "0    z_No      M  ...  11  Minivan      yes   $4,461        2       No   \n",
       "1    z_No      M  ...   1  Minivan      yes       $0        0       No   \n",
       "2    z_No      M  ...   1      Van      yes       $0        0       No   \n",
       "3     Yes    z_F  ...   4    z_SUV       no  $38,690        2       No   \n",
       "4     Yes      M  ...   7  Minivan      yes       $0        0       No   \n",
       "\n",
       "  MVR_PTS CLM_AMT CAR_AGE  CLAIM_FLAG  \n",
       "0       3      $0    18.0           0  \n",
       "1       0      $0     1.0           0  \n",
       "2       2      $0    10.0           0  \n",
       "3       3      $0    10.0           0  \n",
       "4       0      $0     6.0           0  \n",
       "\n",
       "[5 rows x 25 columns]"
      ]
     },
     "execution_count": 2,
     "metadata": {},
     "output_type": "execute_result"
    }
   ],
   "source": [
    "df = pd.read_csv('./data/car_ins.csv')\n",
    "df.head()"
   ]
  },
  {
   "cell_type": "code",
   "execution_count": 3,
   "metadata": {},
   "outputs": [
    {
     "name": "stdout",
     "output_type": "stream",
     "text": [
      "<class 'pandas.core.frame.DataFrame'>\n",
      "RangeIndex: 10302 entries, 0 to 10301\n",
      "Data columns (total 25 columns):\n",
      "ID            10302 non-null int64\n",
      "KIDSDRIV      10302 non-null int64\n",
      "AGE           10295 non-null float64\n",
      "HOMEKIDS      10302 non-null int64\n",
      "YOJ           9754 non-null float64\n",
      "INCOME        9732 non-null object\n",
      "PARENT1       10302 non-null object\n",
      "HOME_VAL      9727 non-null object\n",
      "MSTATUS       10302 non-null object\n",
      "GENDER        10302 non-null object\n",
      "EDUCATION     10302 non-null object\n",
      "OCCUPATION    9637 non-null object\n",
      "TRAVTIME      10302 non-null int64\n",
      "CAR_USE       10302 non-null object\n",
      "BLUEBOOK      10302 non-null object\n",
      "TIF           10302 non-null int64\n",
      "CAR_TYPE      10302 non-null object\n",
      "RED_CAR       10302 non-null object\n",
      "OLDCLAIM      10302 non-null object\n",
      "CLM_FREQ      10302 non-null int64\n",
      "REVOKED       10302 non-null object\n",
      "MVR_PTS       10302 non-null int64\n",
      "CLM_AMT       10302 non-null object\n",
      "CAR_AGE       9663 non-null float64\n",
      "CLAIM_FLAG    10302 non-null int64\n",
      "dtypes: float64(3), int64(8), object(14)\n",
      "memory usage: 2.0+ MB\n"
     ]
    }
   ],
   "source": [
    "df.info()"
   ]
  },
  {
   "cell_type": "code",
   "execution_count": 4,
   "metadata": {},
   "outputs": [
    {
     "name": "stdout",
     "output_type": "stream",
     "text": [
      "0    7556\n",
      "1    2746\n",
      "Name: CLAIM_FLAG, dtype: int64\n"
     ]
    }
   ],
   "source": [
    "# replace the $ symbol\n",
    "columns = ['INCOME','HOME_VAL','BLUEBOOK','OLDCLAIM','CLM_AMT']\n",
    "\n",
    "for col in columns:\n",
    "    df[col].replace({'\\$': '', ',': ''}, regex=True,inplace=True)\n",
    "\n",
    "# store independent variable\n",
    "X = df.drop(['CLAIM_FLAG'],axis=1)\n",
    "\n",
    "# store dependent variable\n",
    "y = df['CLAIM_FLAG']\n",
    "\n",
    "# Check the value counts\n",
    "count = y.value_counts()\n",
    "print(count)\n",
    "\n",
    "# spliting the dataset\n",
    "X_train,X_test,y_train,y_test=train_test_split(X,y ,test_size=0.3,random_state=6)"
   ]
  },
  {
   "cell_type": "markdown",
   "metadata": {},
   "source": [
    "# Convert Datatypes"
   ]
  },
  {
   "cell_type": "code",
   "execution_count": 5,
   "metadata": {},
   "outputs": [
    {
     "name": "stderr",
     "output_type": "stream",
     "text": [
      "C:\\Users\\SHRIK\\Anaconda3\\lib\\site-packages\\pandas\\core\\frame.py:3391: SettingWithCopyWarning: \n",
      "A value is trying to be set on a copy of a slice from a DataFrame.\n",
      "Try using .loc[row_indexer,col_indexer] = value instead\n",
      "\n",
      "See the caveats in the documentation: http://pandas.pydata.org/pandas-docs/stable/indexing.html#indexing-view-versus-copy\n",
      "  self[k1] = value[k2]\n"
     ]
    },
    {
     "name": "stdout",
     "output_type": "stream",
     "text": [
      "            total_missing  perc_missing\n",
      "ID                      0      0.000000\n",
      "KIDSDRIV                0      0.000000\n",
      "AGE                     4      0.055471\n",
      "HOMEKIDS                0      0.000000\n",
      "YOJ                   391      5.422272\n",
      "INCOME                392      5.436139\n",
      "PARENT1                 0      0.000000\n",
      "HOME_VAL              399      5.533213\n",
      "MSTATUS                 0      0.000000\n",
      "GENDER                  0      0.000000\n",
      "EDUCATION               0      0.000000\n",
      "OCCUPATION            465      6.448481\n",
      "TRAVTIME                0      0.000000\n",
      "CAR_USE                 0      0.000000\n",
      "BLUEBOOK                0      0.000000\n",
      "TIF                     0      0.000000\n",
      "CAR_TYPE                0      0.000000\n",
      "RED_CAR                 0      0.000000\n",
      "OLDCLAIM                0      0.000000\n",
      "CLM_FREQ                0      0.000000\n",
      "REVOKED                 0      0.000000\n",
      "MVR_PTS                 0      0.000000\n",
      "CLM_AMT                 0      0.000000\n",
      "CAR_AGE               438      6.074054\n",
      "            total_missing  perc_missing\n",
      "ID                      0      0.000000\n",
      "KIDSDRIV                0      0.000000\n",
      "AGE                     4      0.129408\n",
      "HOMEKIDS                0      0.000000\n",
      "YOJ                   391     12.649628\n",
      "INCOME                392     12.681980\n",
      "PARENT1                 0      0.000000\n",
      "HOME_VAL              399     12.908444\n",
      "MSTATUS                 0      0.000000\n",
      "GENDER                  0      0.000000\n",
      "EDUCATION               0      0.000000\n",
      "OCCUPATION            465     15.043675\n",
      "TRAVTIME                0      0.000000\n",
      "CAR_USE                 0      0.000000\n",
      "BLUEBOOK                0      0.000000\n",
      "TIF                     0      0.000000\n",
      "CAR_TYPE                0      0.000000\n",
      "RED_CAR                 0      0.000000\n",
      "OLDCLAIM                0      0.000000\n",
      "CLM_FREQ                0      0.000000\n",
      "REVOKED                 0      0.000000\n",
      "MVR_PTS                 0      0.000000\n",
      "CLM_AMT                 0      0.000000\n",
      "CAR_AGE               438     14.170171\n"
     ]
    }
   ],
   "source": [
    "# Convert object type to float on X_train\n",
    "X_train[['INCOME','HOME_VAL','BLUEBOOK','OLDCLAIM','CLM_AMT']]=X_train[['INCOME','HOME_VAL','BLUEBOOK','OLDCLAIM','CLM_AMT']].astype(float)\n",
    "\n",
    "# Convert object type to float on X_test\n",
    "X_test[['INCOME','HOME_VAL','BLUEBOOK','OLDCLAIM','CLM_AMT']]=X_test[['INCOME','HOME_VAL','BLUEBOOK','OLDCLAIM','CLM_AMT']].astype(float)\n",
    "\n",
    "# check missing values in X_train\n",
    "print(pd.DataFrame({'total_missing': X_train.isnull().sum(), 'perc_missing': (X_train.isnull().sum()/7211)*100}))\n",
    "\n",
    "# check missing values in X_test\n",
    "print(pd.DataFrame({'total_missing': X_train.isnull().sum(), 'perc_missing': (X_train.isnull().sum()/3091)*100}))"
   ]
  },
  {
   "cell_type": "markdown",
   "metadata": {},
   "source": [
    "# Obervation:\n",
    "1. We can see that the features ['YOJ','OCCUPATION'] varies person to person. We can not deal with that type of missing value so we are going to remove the row from this column.\n",
    "2. AGE,CAR_AGE,INCOME and HOME_VAL contains the numerical values."
   ]
  },
  {
   "cell_type": "markdown",
   "metadata": {},
   "source": [
    "# Dealing with missing values"
   ]
  },
  {
   "cell_type": "code",
   "execution_count": 6,
   "metadata": {},
   "outputs": [
    {
     "name": "stderr",
     "output_type": "stream",
     "text": [
      "C:\\Users\\SHRIK\\Anaconda3\\lib\\site-packages\\ipykernel_launcher.py:2: SettingWithCopyWarning: \n",
      "A value is trying to be set on a copy of a slice from a DataFrame\n",
      "\n",
      "See the caveats in the documentation: http://pandas.pydata.org/pandas-docs/stable/indexing.html#indexing-view-versus-copy\n",
      "  \n",
      "C:\\Users\\SHRIK\\Anaconda3\\lib\\site-packages\\ipykernel_launcher.py:3: SettingWithCopyWarning: \n",
      "A value is trying to be set on a copy of a slice from a DataFrame\n",
      "\n",
      "See the caveats in the documentation: http://pandas.pydata.org/pandas-docs/stable/indexing.html#indexing-view-versus-copy\n",
      "  This is separate from the ipykernel package so we can avoid doing imports until\n",
      "C:\\Users\\SHRIK\\Anaconda3\\lib\\site-packages\\pandas\\core\\generic.py:6130: SettingWithCopyWarning: \n",
      "A value is trying to be set on a copy of a slice from a DataFrame\n",
      "\n",
      "See the caveats in the documentation: http://pandas.pydata.org/pandas-docs/stable/indexing.html#indexing-view-versus-copy\n",
      "  self._update_inplace(new_data)\n"
     ]
    },
    {
     "name": "stdout",
     "output_type": "stream",
     "text": [
      "ID            0\n",
      "KIDSDRIV      0\n",
      "AGE           0\n",
      "HOMEKIDS      0\n",
      "YOJ           0\n",
      "INCOME        0\n",
      "PARENT1       0\n",
      "HOME_VAL      0\n",
      "MSTATUS       0\n",
      "GENDER        0\n",
      "EDUCATION     0\n",
      "OCCUPATION    0\n",
      "TRAVTIME      0\n",
      "CAR_USE       0\n",
      "BLUEBOOK      0\n",
      "TIF           0\n",
      "CAR_TYPE      0\n",
      "RED_CAR       0\n",
      "OLDCLAIM      0\n",
      "CLM_FREQ      0\n",
      "REVOKED       0\n",
      "MVR_PTS       0\n",
      "CLM_AMT       0\n",
      "CAR_AGE       0\n",
      "dtype: int64\n",
      "ID            0\n",
      "KIDSDRIV      0\n",
      "AGE           0\n",
      "HOMEKIDS      0\n",
      "YOJ           0\n",
      "INCOME        0\n",
      "PARENT1       0\n",
      "HOME_VAL      0\n",
      "MSTATUS       0\n",
      "GENDER        0\n",
      "EDUCATION     0\n",
      "OCCUPATION    0\n",
      "TRAVTIME      0\n",
      "CAR_USE       0\n",
      "BLUEBOOK      0\n",
      "TIF           0\n",
      "CAR_TYPE      0\n",
      "RED_CAR       0\n",
      "OLDCLAIM      0\n",
      "CLM_FREQ      0\n",
      "REVOKED       0\n",
      "MVR_PTS       0\n",
      "CLM_AMT       0\n",
      "CAR_AGE       0\n",
      "dtype: int64\n"
     ]
    }
   ],
   "source": [
    "# drop missing values\n",
    "X_train.dropna(subset=['YOJ','OCCUPATION'],inplace=True)\n",
    "X_test.dropna(subset=['YOJ','OCCUPATION'],inplace=True)\n",
    "\n",
    "\n",
    "y_train=y_train[X_train.index]\n",
    "y_test=y_test[X_test.index]\n",
    "\n",
    "\n",
    "\n",
    "# fill missing values with mean\n",
    "X_train['AGE'].fillna((X_train['AGE'].mean()), inplace=True)\n",
    "X_test['AGE'].fillna((X_train['AGE'].mean()), inplace=True)\n",
    "\n",
    "X_train['CAR_AGE'].fillna((X_train['CAR_AGE'].mean()), inplace=True)\n",
    "X_test['CAR_AGE'].fillna((X_train['CAR_AGE'].mean()), inplace=True)\n",
    "\n",
    "\n",
    "\n",
    "X_train['INCOME'].fillna((X_train['INCOME'].mean()), inplace=True)\n",
    "X_test['INCOME'].fillna((X_train['INCOME'].mean()), inplace=True)\n",
    "\n",
    "\n",
    "\n",
    "X_train['HOME_VAL'].fillna((X_train['HOME_VAL'].mean()), inplace=True)\n",
    "X_test['HOME_VAL'].fillna((X_train['HOME_VAL'].mean()), inplace=True)\n",
    "\n",
    "\n",
    "print(X_train.isnull().sum())\n",
    "print(X_test.isnull().sum())"
   ]
  },
  {
   "cell_type": "markdown",
   "metadata": {},
   "source": [
    "# Convert the categorical values to numeric value"
   ]
  },
  {
   "cell_type": "code",
   "execution_count": 7,
   "metadata": {},
   "outputs": [
    {
     "name": "stderr",
     "output_type": "stream",
     "text": [
      "C:\\Users\\SHRIK\\Anaconda3\\lib\\site-packages\\ipykernel_launcher.py:10: SettingWithCopyWarning: \n",
      "A value is trying to be set on a copy of a slice from a DataFrame.\n",
      "Try using .loc[row_indexer,col_indexer] = value instead\n",
      "\n",
      "See the caveats in the documentation: http://pandas.pydata.org/pandas-docs/stable/indexing.html#indexing-view-versus-copy\n",
      "  # Remove the CWD from sys.path while we load stuff.\n",
      "C:\\Users\\SHRIK\\Anaconda3\\lib\\site-packages\\ipykernel_launcher.py:12: SettingWithCopyWarning: \n",
      "A value is trying to be set on a copy of a slice from a DataFrame.\n",
      "Try using .loc[row_indexer,col_indexer] = value instead\n",
      "\n",
      "See the caveats in the documentation: http://pandas.pydata.org/pandas-docs/stable/indexing.html#indexing-view-versus-copy\n",
      "  if sys.path[0] == '':\n"
     ]
    },
    {
     "name": "stdout",
     "output_type": "stream",
     "text": [
      "(6381, 24)\n",
      "(2744, 24)\n"
     ]
    }
   ],
   "source": [
    "from sklearn.preprocessing import LabelEncoder\n",
    "# Columns are given\n",
    "columns = [\"PARENT1\",\"MSTATUS\",\"GENDER\",\"EDUCATION\",\"OCCUPATION\",\"CAR_USE\",\"CAR_TYPE\",\"RED_CAR\",\"REVOKED\"]\n",
    "\n",
    "# Code starts here\n",
    "for col in columns:\n",
    "    # Instantiate label encoder\n",
    "    le = LabelEncoder()\n",
    "    # fit and transform label encoder on X_train\n",
    "    X_train[col]=le.fit_transform(X_train[col].astype(str))\n",
    "    # transform label encoder on X_test\n",
    "    X_test[col]=le.transform(X_test[col].astype(str))\n",
    "print(X_train.shape)\n",
    "print(X_test.shape)"
   ]
  },
  {
   "cell_type": "markdown",
   "metadata": {},
   "source": [
    "# Prediction check"
   ]
  },
  {
   "cell_type": "code",
   "execution_count": 8,
   "metadata": {},
   "outputs": [
    {
     "name": "stdout",
     "output_type": "stream",
     "text": [
      "Accuracy_score: 0.7408892128279884\n",
      "Precision Score: 0.0\n"
     ]
    },
    {
     "name": "stderr",
     "output_type": "stream",
     "text": [
      "C:\\Users\\SHRIK\\Anaconda3\\lib\\site-packages\\sklearn\\metrics\\_classification.py:1268: UndefinedMetricWarning: Precision is ill-defined and being set to 0.0 due to no predicted samples. Use `zero_division` parameter to control this behavior.\n",
      "  _warn_prf(average, modifier, msg_start, len(result))\n"
     ]
    }
   ],
   "source": [
    "from sklearn.metrics import precision_score \n",
    "from sklearn.metrics import accuracy_score\n",
    "from sklearn.linear_model import LogisticRegression\n",
    "\n",
    "# Instantiate logistic regression\n",
    "model = LogisticRegression(random_state = 6)\n",
    "\n",
    "# fit the model\n",
    "model.fit(X_train,y_train)\n",
    "\n",
    "# predict the result\n",
    "y_pred =model.predict(X_test)\n",
    "\n",
    "# calculate the score\n",
    "score = accuracy_score(y_test,y_pred)\n",
    "print('Accuracy_score:',score)\n",
    "precision = precision_score(y_test,y_pred)\n",
    "print(\"Precision Score:\",precision)"
   ]
  },
  {
   "cell_type": "markdown",
   "metadata": {},
   "source": [
    "# Observation\n",
    "1. We got an accuracy of 74%. One might think that it is a good score but even if the model always predicts 0, you will still get 74% accuracy since the target value distribution is 74% 0s and 26% 1s.\n",
    "2. So we need to balance the data."
   ]
  },
  {
   "cell_type": "markdown",
   "metadata": {},
   "source": [
    "# Dealing with Imbalanced data"
   ]
  },
  {
   "cell_type": "code",
   "execution_count": 9,
   "metadata": {},
   "outputs": [],
   "source": [
    "from sklearn.preprocessing import StandardScaler\n",
    "from imblearn.over_sampling import SMOTE\n",
    "\n",
    "# code starts here\n",
    "\n",
    "# Instantiate SMOTE \n",
    "smote = SMOTE(random_state=9)\n",
    "\n",
    "# fit smote on training set\n",
    "X_train, y_train = smote.fit_sample(X_train, y_train)\n",
    "\n",
    "# code ends here\n",
    "\n",
    "# Instantiate a standardScaler\n",
    "scaler = StandardScaler()\n",
    "\n",
    "# Fit on training set only.\n",
    "X_train = scaler.fit_transform(X_train)\n",
    "\n",
    "# Apply transform to the test set.\n",
    "X_test = scaler.transform(X_test)"
   ]
  },
  {
   "cell_type": "markdown",
   "metadata": {},
   "source": [
    "# Prediction Check after dealing with imbalanced data"
   ]
  },
  {
   "cell_type": "code",
   "execution_count": 10,
   "metadata": {},
   "outputs": [
    {
     "name": "stdout",
     "output_type": "stream",
     "text": [
      "Accuracy_score: 0.9908892128279884\n"
     ]
    }
   ],
   "source": [
    "# Instantiate logistic regression\n",
    "model = LogisticRegression()\n",
    "\n",
    "# fit the model\n",
    "model.fit(X_train,y_train)\n",
    "\n",
    "# predict the result\n",
    "y_pred =model.predict(X_test)\n",
    "\n",
    "# calculate the `score\n",
    "score = accuracy_score(y_test,y_pred)\n",
    "print('Accuracy_score:',score)"
   ]
  }
 ],
 "metadata": {
  "kernelspec": {
   "display_name": "Python 3",
   "language": "python",
   "name": "python3"
  },
  "language_info": {
   "codemirror_mode": {
    "name": "ipython",
    "version": 3
   },
   "file_extension": ".py",
   "mimetype": "text/x-python",
   "name": "python",
   "nbconvert_exporter": "python",
   "pygments_lexer": "ipython3",
   "version": "3.7.3"
  }
 },
 "nbformat": 4,
 "nbformat_minor": 2
}
