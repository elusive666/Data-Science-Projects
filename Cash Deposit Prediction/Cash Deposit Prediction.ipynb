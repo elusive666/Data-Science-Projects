{
 "cells": [
  {
   "cell_type": "code",
   "execution_count": 8,
   "metadata": {},
   "outputs": [],
   "source": [
    "import os\n",
    "import pandas as pd\n",
    "import numpy as np\n",
    "import warnings\n",
    "from sklearn.model_selection import train_test_split\n",
    "warnings.filterwarnings('ignore')"
   ]
  },
  {
   "cell_type": "markdown",
   "metadata": {},
   "source": [
    "# Loading the dataset and Cleaning dataset"
   ]
  },
  {
   "cell_type": "code",
   "execution_count": 14,
   "metadata": {},
   "outputs": [
    {
     "name": "stdout",
     "output_type": "stream",
     "text": [
      "serial_number          0\n",
      "main_office            0\n",
      "branch_number          0\n",
      "established_date       0\n",
      "acquired_date       1493\n",
      "city                   0\n",
      "county                 0\n",
      "state                  0\n",
      "2010_deposits        740\n",
      "2011_deposits        578\n",
      "2012_deposits        329\n",
      "2013_deposits        175\n",
      "2014_deposits         56\n",
      "2015_deposits         19\n",
      "2016_deposits          0\n",
      "dtype: int64\n"
     ]
    }
   ],
   "source": [
    "# Code starts here\n",
    "df = pd.read_csv(r'C:\\Users\\SHRIK\\Desktop\\shrikant\\Projects\\GreyAtom Projects\\Cash Deposit Prediction\\data\\ml2_train.csv')\n",
    "df.columns = map(str.lower, df.columns)\n",
    "df.columns = df.columns.str.replace(' ','_')\n",
    "df.head()\n",
    "df.replace('NaN',np.nan,inplace=True)\n",
    "print(df.isnull().sum())"
   ]
  },
  {
   "cell_type": "markdown",
   "metadata": {},
   "source": [
    "# Handling Time Stamp data\n"
   ]
  },
  {
   "cell_type": "code",
   "execution_count": null,
   "metadata": {},
   "outputs": [],
   "source": [
    "df.set_index(keys='serial_number',inplace=True,drop=True)\n",
    "df['established_date'] = pd.to_datetime(df['established_date'])\n",
    "df['acquired_date'] = pd.to_datetime(df['acquired_date'])\n",
    "print(df.head())\n",
    "y = df['2016_deposits'] \n",
    "X = df.iloc[:,:-1]\n",
    "X_train,X_val,y_train,y_val = train_test_split(X,y,test_size = 0.25, random_state = 3 )"
   ]
  },
  {
   "cell_type": "markdown",
   "metadata": {},
   "source": [
    "# Generate a feature of age of funds from inception date"
   ]
  },
  {
   "cell_type": "code",
   "execution_count": null,
   "metadata": {},
   "outputs": [],
   "source": [
    "time_col = ['established_date', 'acquired_date']\n",
    "# Code starts from here\n",
    "for col_name in time_col:\n",
    "    new_col_name = \"since_\"+col_name\n",
    "    X_train[new_col_name] = pd.datetime.now() - X_train[col_name]\n",
    "    X_train[new_col_name] = X_train[new_col_name].apply(lambda x: float(x.days)/365)\n",
    "    X_train.drop(columns=col_name,inplace=True) \n",
    "    X_val[new_col_name] = pd.datetime.now() - X_val[col_name]\n",
    "    X_val[new_col_name] = X_val[new_col_name].apply(lambda x: float(x.days)/365)\n",
    "    X_val.drop(columns=col_name,inplace=True)\n",
    "print(X_train.head())"
   ]
  },
  {
   "cell_type": "markdown",
   "metadata": {},
   "source": [
    "# Encoding and filling missing values\n"
   ]
  },
  {
   "cell_type": "code",
   "execution_count": null,
   "metadata": {},
   "outputs": [],
   "source": [
    "from sklearn.preprocessing import LabelEncoder\n",
    "cat = X_train.select_dtypes(include='O').columns.tolist()\n",
    "\n",
    "# Missing values\n",
    "\n",
    "X_train = X_train.fillna(0)\n",
    "X_val = X_val.fillna(0)\n",
    "\n",
    "# Label encoding\n",
    "\n",
    "le = LabelEncoder()\n",
    "\n",
    "for x in cat:\n",
    "    \n",
    "    X_train[x] = le.fit_transform(X_train[x])\n",
    "    \n",
    "    X_val[x] = le.fit_transform(X_val[x])\n",
    "    \n",
    "# One hot encoding\n",
    "\n",
    "X_train_temp = pd.get_dummies(data = X_train, columns = cat)\n",
    "X_val_temp = pd.get_dummies(data = X_val, columns = cat)\n",
    "\n",
    "# Shape of train and test data\n",
    "print(X_train_temp.shape,X_val_temp.shape)"
   ]
  },
  {
   "cell_type": "markdown",
   "metadata": {},
   "source": [
    "# Observation\n",
    "Some of the models like Linear Regression requires the data to be one hot encoded for the model to work efficiently. The shape error we faced in the previous task while applying Linear regression was due to one hot encoding applied on the dataset. Some categories present in the train data set were not present in the test data set and so the shape of both the dataframes did not match. So one of the methods to tackle this is that to use tree based algorithm. A major advantage of decision tree models and their ensemble counterparts, random forests, is that they are able to operate on both continuous and categorical variables directly. In contrast, most other popular models (e.g.,Linear regresion) must instead transform categorical variables into some numerical analog, usually by one-hot encoding them to create a new dummy variable."
   ]
  },
  {
   "cell_type": "markdown",
   "metadata": {},
   "source": [
    "# Decision Tree\n",
    "We have learned about how Decision tree algorithm works for classification. We can use Decision tree algorithm for regression as well. We will use DecisionTreeRegressor from sklearn library to do so."
   ]
  },
  {
   "cell_type": "code",
   "execution_count": null,
   "metadata": {},
   "outputs": [],
   "source": [
    "from sklearn.tree import DecisionTreeRegressor\n",
    "from sklearn.metrics import mean_squared_error\n",
    "dt =DecisionTreeRegressor(random_state = 5)\n",
    "dt.fit(X_train,y_train)\n",
    "accuracy = dt.score(X_val,y_val)\n",
    "print(accuracy)\n",
    "y_pred = dt.predict(X_val)\n",
    "rmse = np.sqrt(mean_squared_error(y_val,y_pred))\n",
    "print(\"RMSE:\",rmse)"
   ]
  },
  {
   "cell_type": "markdown",
   "metadata": {},
   "source": [
    "## XGBoost"
   ]
  },
  {
   "cell_type": "code",
   "execution_count": null,
   "metadata": {},
   "outputs": [],
   "source": [
    "from xgboost import XGBRegressor\n",
    "xgb = XGBRegressor(max_depth=50,learning_rate=0.83,n_estimators=100)\n",
    "xgb.fit(X_train,y_train)\n",
    "accuracy = xgb.score(X_val,y_val)\n",
    "print(accuracy)\n",
    "y_pred = xgb.predict(X_val)\n",
    "rmse = np.sqrt(mean_squared_error(y_val,y_pred))\n",
    "print(\"RMSE:\",rmse)"
   ]
  }
 ],
 "metadata": {
  "kernelspec": {
   "display_name": "Python 3",
   "language": "python",
   "name": "python3"
  },
  "language_info": {
   "codemirror_mode": {
    "name": "ipython",
    "version": 3
   },
   "file_extension": ".py",
   "mimetype": "text/x-python",
   "name": "python",
   "nbconvert_exporter": "python",
   "pygments_lexer": "ipython3",
   "version": "3.7.3"
  }
 },
 "nbformat": 4,
 "nbformat_minor": 2
}
