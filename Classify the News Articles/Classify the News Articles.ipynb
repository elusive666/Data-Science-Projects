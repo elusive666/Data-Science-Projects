{
 "cells": [
  {
   "cell_type": "code",
   "execution_count": 1,
   "metadata": {},
   "outputs": [],
   "source": [
    "import numpy as np\n",
    "import pandas as pd\n",
    "import matplotlib.pyplot as plt\n",
    "\n",
    "import seaborn as sns\n",
    "import re\n",
    "from nltk.corpus import stopwords\n",
    "from sklearn.model_selection import train_test_split\n",
    "from sklearn.feature_extraction.text import CountVectorizer, TfidfVectorizer\n",
    "from sklearn.naive_bayes import MultinomialNB\n",
    "from sklearn.multiclass import OneVsRestClassifier\n",
    "from sklearn.linear_model import LogisticRegression\n",
    "from sklearn.metrics import accuracy_score ,confusion_matrix"
   ]
  },
  {
   "cell_type": "markdown",
   "metadata": {},
   "source": [
    "# Load data and observe class distributions"
   ]
  },
  {
   "cell_type": "code",
   "execution_count": 2,
   "metadata": {},
   "outputs": [
    {
     "name": "stdout",
     "output_type": "stream",
     "text": [
      "e    152469\n",
      "b    115967\n",
      "t    108344\n",
      "m     45639\n",
      "Name: CATEGORY, dtype: int64\n"
     ]
    },
    {
     "data": {
      "text/html": [
       "<div>\n",
       "<style scoped>\n",
       "    .dataframe tbody tr th:only-of-type {\n",
       "        vertical-align: middle;\n",
       "    }\n",
       "\n",
       "    .dataframe tbody tr th {\n",
       "        vertical-align: top;\n",
       "    }\n",
       "\n",
       "    .dataframe thead th {\n",
       "        text-align: right;\n",
       "    }\n",
       "</style>\n",
       "<table border=\"1\" class=\"dataframe\">\n",
       "  <thead>\n",
       "    <tr style=\"text-align: right;\">\n",
       "      <th></th>\n",
       "      <th>TITLE</th>\n",
       "      <th>CATEGORY</th>\n",
       "    </tr>\n",
       "  </thead>\n",
       "  <tbody>\n",
       "    <tr>\n",
       "      <th>0</th>\n",
       "      <td>Fed official says weak data caused by weather,...</td>\n",
       "      <td>b</td>\n",
       "    </tr>\n",
       "    <tr>\n",
       "      <th>1</th>\n",
       "      <td>Fed's Charles Plosser sees high bar for change...</td>\n",
       "      <td>b</td>\n",
       "    </tr>\n",
       "    <tr>\n",
       "      <th>2</th>\n",
       "      <td>US open: Stocks fall after Fed official hints ...</td>\n",
       "      <td>b</td>\n",
       "    </tr>\n",
       "    <tr>\n",
       "      <th>3</th>\n",
       "      <td>Fed risks falling 'behind the curve', Charles ...</td>\n",
       "      <td>b</td>\n",
       "    </tr>\n",
       "    <tr>\n",
       "      <th>4</th>\n",
       "      <td>Fed's Plosser: Nasty Weather Has Curbed Job Gr...</td>\n",
       "      <td>b</td>\n",
       "    </tr>\n",
       "  </tbody>\n",
       "</table>\n",
       "</div>"
      ],
      "text/plain": [
       "                                               TITLE CATEGORY\n",
       "0  Fed official says weak data caused by weather,...        b\n",
       "1  Fed's Charles Plosser sees high bar for change...        b\n",
       "2  US open: Stocks fall after Fed official hints ...        b\n",
       "3  Fed risks falling 'behind the curve', Charles ...        b\n",
       "4  Fed's Plosser: Nasty Weather Has Curbed Job Gr...        b"
      ]
     },
     "execution_count": 2,
     "metadata": {},
     "output_type": "execute_result"
    }
   ],
   "source": [
    "# load data\n",
    "news = pd.read_csv('./uci-news-aggregator.csv')\n",
    "\n",
    "# subset data\n",
    "news = news[['TITLE','CATEGORY']]\n",
    "\n",
    "# distribution of classes\n",
    "dist =  news['CATEGORY'].value_counts()\n",
    "\n",
    "# display class distribution\n",
    "print(dist)\n",
    "\n",
    "# display data\n",
    "news.head()"
   ]
  },
  {
   "cell_type": "markdown",
   "metadata": {},
   "source": [
    "# Preprocess data and split into training and test sets"
   ]
  },
  {
   "cell_type": "code",
   "execution_count": 3,
   "metadata": {},
   "outputs": [],
   "source": [
    "# stopwords \n",
    "stop = set(stopwords.words('english'))\n",
    "# retain only alphabets\n",
    "news['TITLE'] = news['TITLE'].apply(lambda x:re.sub('[^a-zA-Z]', ' ',x))\n",
    "\n",
    "\n",
    "# convert to lowercase and tokenize\n",
    "news['TITLE'] = news['TITLE'].apply(lambda x:x.lower().split())\n",
    "\n",
    "# remove stopwords\n",
    "news['TITLE'] = news['TITLE'].apply(lambda x:[i for i in x if i not in stop])\n",
    "\n",
    "# join list elements\n",
    "news['TITLE'] = news['TITLE'].apply(lambda x: ' '.join(x))\n",
    "\n",
    "# split into training and test sets\n",
    "X_train, X_test, Y_train , Y_test = train_test_split(news[\"TITLE\"], news[\"CATEGORY\"], test_size = 0.2,random_state=3)"
   ]
  },
  {
   "cell_type": "markdown",
   "metadata": {},
   "source": [
    "# Vectorize with Bag-of-words and TF-IDF approach"
   ]
  },
  {
   "cell_type": "code",
   "execution_count": 4,
   "metadata": {},
   "outputs": [],
   "source": [
    "# initialize count vectorizer\n",
    "count_vectorizer = CountVectorizer()\n",
    "\n",
    "# initialize tfidf vectorizer\n",
    "tfidf_vectorizer = TfidfVectorizer(ngram_range=(1,3))\n",
    "\n",
    "# fit and transform with count vectorizer\n",
    "X_train_count = count_vectorizer.fit_transform(X_train)\n",
    "X_test_count = count_vectorizer.transform(X_test)\n",
    "\n",
    "# fit and transform with tfidf vectorizer\n",
    "X_train_tfidf = tfidf_vectorizer.fit_transform(X_train)\n",
    "X_test_tfidf = tfidf_vectorizer.transform(X_test)"
   ]
  },
  {
   "cell_type": "markdown",
   "metadata": {},
   "source": [
    "# Predicting with Multinomial Naive Bayes"
   ]
  },
  {
   "cell_type": "code",
   "execution_count": 9,
   "metadata": {},
   "outputs": [
    {
     "name": "stdout",
     "output_type": "stream",
     "text": [
      "Count vectorizer Accuracy: 0.9464277259599451\n",
      "TF-IDF Accuracy: 0.9431608351877279\n"
     ]
    }
   ],
   "source": [
    "# initialize multinomial naive bayes\n",
    "nb_1 = MultinomialNB()\n",
    "nb_2 = MultinomialNB()\n",
    "# fit on count vectorizer training data\n",
    "nb_1.fit(X_train_count,Y_train)\n",
    "# fit on tfidf vectorizer training data\n",
    "nb_2.fit(X_train_tfidf,Y_train)\n",
    "# accuracy with count vectorizer\n",
    "acc_count_nb = accuracy_score(nb_1.predict(X_test_count),Y_test)\n",
    "# accuracy with tfidf vectorizer\n",
    "acc_tfidf_nb = accuracy_score(nb_2.predict(X_test_tfidf),Y_test)\n",
    "# display accuracies\n",
    "print(\"Count vectorizer Accuracy:\",acc_count_logreg)\n",
    "print('TF-IDF Accuracy:',acc_tfidf_logreg)"
   ]
  },
  {
   "cell_type": "markdown",
   "metadata": {},
   "source": [
    "# Predicting with Logistic Regression"
   ]
  },
  {
   "cell_type": "code",
   "execution_count": 10,
   "metadata": {},
   "outputs": [
    {
     "name": "stdout",
     "output_type": "stream",
     "text": [
      "Count vectorizer Accuracy: 0.9464277259599451\n",
      "TF-IDF Accuracy: 0.9431608351877279\n"
     ]
    }
   ],
   "source": [
    "import warnings\n",
    "warnings.filterwarnings('ignore')\n",
    "\n",
    "# initialize logistic regression\n",
    "logreg_1 = OneVsRestClassifier(LogisticRegression(random_state=10))\n",
    "logreg_2 = OneVsRestClassifier(LogisticRegression(random_state=10))\n",
    "# fit on count vectorizer training data\n",
    "logreg_1.fit(X_train_count,Y_train)\n",
    "# fit on tfidf vectorizer training data\n",
    "logreg_2.fit(X_train_tfidf,Y_train)\n",
    "# accuracy with count vectorizer\n",
    "acc_count_logreg = accuracy_score(logreg_1.predict(X_test_count), Y_test)\n",
    "# accuracy with tfidf vectorizer\n",
    "acc_tfidf_logreg = accuracy_score(logreg_2.predict(X_test_tfidf), Y_test)\n",
    "\n",
    "# display accuracies\n",
    "print(\"Count vectorizer Accuracy:\",acc_count_logreg)\n",
    "print('TF-IDF Accuracy:',acc_tfidf_logreg)"
   ]
  }
 ],
 "metadata": {
  "kernelspec": {
   "display_name": "Python 3",
   "language": "python",
   "name": "python3"
  },
  "language_info": {
   "codemirror_mode": {
    "name": "ipython",
    "version": 3
   },
   "file_extension": ".py",
   "mimetype": "text/x-python",
   "name": "python",
   "nbconvert_exporter": "python",
   "pygments_lexer": "ipython3",
   "version": "3.7.3"
  }
 },
 "nbformat": 4,
 "nbformat_minor": 2
}
