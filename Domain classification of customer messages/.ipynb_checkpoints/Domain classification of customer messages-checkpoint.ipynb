{
 "cells": [
  {
   "cell_type": "markdown",
   "metadata": {},
   "source": [
    "# Import Libraries"
   ]
  },
  {
   "cell_type": "code",
   "execution_count": 1,
   "metadata": {},
   "outputs": [],
   "source": [
    "import pandas as pd\n",
    "import os\n",
    "import numpy as np\n",
    "import warnings\n",
    "warnings.filterwarnings(\"ignore\")"
   ]
  },
  {
   "cell_type": "markdown",
   "metadata": {},
   "source": [
    "# Data Loading"
   ]
  },
  {
   "cell_type": "code",
   "execution_count": 2,
   "metadata": {},
   "outputs": [
    {
     "data": {
      "text/html": [
       "<div>\n",
       "<style scoped>\n",
       "    .dataframe tbody tr th:only-of-type {\n",
       "        vertical-align: middle;\n",
       "    }\n",
       "\n",
       "    .dataframe tbody tr th {\n",
       "        vertical-align: top;\n",
       "    }\n",
       "\n",
       "    .dataframe thead th {\n",
       "        text-align: right;\n",
       "    }\n",
       "</style>\n",
       "<table border=\"1\" class=\"dataframe\">\n",
       "  <thead>\n",
       "    <tr style=\"text-align: right;\">\n",
       "      <th></th>\n",
       "      <th>message</th>\n",
       "      <th>food</th>\n",
       "      <th>recharge</th>\n",
       "      <th>support</th>\n",
       "      <th>reminders</th>\n",
       "      <th>travel</th>\n",
       "      <th>nearby</th>\n",
       "      <th>movies</th>\n",
       "      <th>casual</th>\n",
       "      <th>other</th>\n",
       "    </tr>\n",
       "  </thead>\n",
       "  <tbody>\n",
       "    <tr>\n",
       "      <th>0</th>\n",
       "      <td>7am everyday</td>\n",
       "      <td>F</td>\n",
       "      <td>F</td>\n",
       "      <td>F</td>\n",
       "      <td>T</td>\n",
       "      <td>F</td>\n",
       "      <td>F</td>\n",
       "      <td>F</td>\n",
       "      <td>F</td>\n",
       "      <td>F</td>\n",
       "    </tr>\n",
       "    <tr>\n",
       "      <th>1</th>\n",
       "      <td>chocolate cake</td>\n",
       "      <td>T</td>\n",
       "      <td>F</td>\n",
       "      <td>F</td>\n",
       "      <td>F</td>\n",
       "      <td>F</td>\n",
       "      <td>F</td>\n",
       "      <td>F</td>\n",
       "      <td>F</td>\n",
       "      <td>F</td>\n",
       "    </tr>\n",
       "    <tr>\n",
       "      <th>2</th>\n",
       "      <td>closed mortice and tenon joint door dimentions</td>\n",
       "      <td>F</td>\n",
       "      <td>F</td>\n",
       "      <td>T</td>\n",
       "      <td>F</td>\n",
       "      <td>F</td>\n",
       "      <td>F</td>\n",
       "      <td>F</td>\n",
       "      <td>F</td>\n",
       "      <td>F</td>\n",
       "    </tr>\n",
       "    <tr>\n",
       "      <th>3</th>\n",
       "      <td>train eppo kelambum</td>\n",
       "      <td>F</td>\n",
       "      <td>F</td>\n",
       "      <td>F</td>\n",
       "      <td>F</td>\n",
       "      <td>T</td>\n",
       "      <td>F</td>\n",
       "      <td>F</td>\n",
       "      <td>F</td>\n",
       "      <td>F</td>\n",
       "    </tr>\n",
       "    <tr>\n",
       "      <th>4</th>\n",
       "      <td>yesterday i have cancelled the flight ticket</td>\n",
       "      <td>F</td>\n",
       "      <td>F</td>\n",
       "      <td>F</td>\n",
       "      <td>F</td>\n",
       "      <td>T</td>\n",
       "      <td>F</td>\n",
       "      <td>F</td>\n",
       "      <td>F</td>\n",
       "      <td>F</td>\n",
       "    </tr>\n",
       "  </tbody>\n",
       "</table>\n",
       "</div>"
      ],
      "text/plain": [
       "                                          message food recharge support  \\\n",
       "0                                    7am everyday    F        F       F   \n",
       "1                                  chocolate cake    T        F       F   \n",
       "2  closed mortice and tenon joint door dimentions    F        F       T   \n",
       "3                             train eppo kelambum    F        F       F   \n",
       "4    yesterday i have cancelled the flight ticket    F        F       F   \n",
       "\n",
       "  reminders travel nearby movies casual other  \n",
       "0         T      F      F      F      F     F  \n",
       "1         F      F      F      F      F     F  \n",
       "2         F      F      F      F      F     F  \n",
       "3         F      T      F      F      F     F  \n",
       "4         F      T      F      F      F     F  "
      ]
     },
     "execution_count": 2,
     "metadata": {},
     "output_type": "execute_result"
    }
   ],
   "source": [
    "df = pd.read_csv('./train.csv')\n",
    "df.head()"
   ]
  },
  {
   "cell_type": "markdown",
   "metadata": {},
   "source": [
    "# Data Cleaning"
   ]
  },
  {
   "cell_type": "code",
   "execution_count": 3,
   "metadata": {},
   "outputs": [
    {
     "name": "stdout",
     "output_type": "stream",
     "text": [
      "\n",
      "Updated dataframe:\n",
      "\n"
     ]
    },
    {
     "data": {
      "text/html": [
       "<div>\n",
       "<style scoped>\n",
       "    .dataframe tbody tr th:only-of-type {\n",
       "        vertical-align: middle;\n",
       "    }\n",
       "\n",
       "    .dataframe tbody tr th {\n",
       "        vertical-align: top;\n",
       "    }\n",
       "\n",
       "    .dataframe thead th {\n",
       "        text-align: right;\n",
       "    }\n",
       "</style>\n",
       "<table border=\"1\" class=\"dataframe\">\n",
       "  <thead>\n",
       "    <tr style=\"text-align: right;\">\n",
       "      <th></th>\n",
       "      <th>message</th>\n",
       "      <th>category</th>\n",
       "    </tr>\n",
       "  </thead>\n",
       "  <tbody>\n",
       "    <tr>\n",
       "      <th>0</th>\n",
       "      <td>7am everyday</td>\n",
       "      <td>reminders</td>\n",
       "    </tr>\n",
       "    <tr>\n",
       "      <th>1</th>\n",
       "      <td>chocolate cake</td>\n",
       "      <td>food</td>\n",
       "    </tr>\n",
       "    <tr>\n",
       "      <th>2</th>\n",
       "      <td>closed mortice and tenon joint door dimentions</td>\n",
       "      <td>support</td>\n",
       "    </tr>\n",
       "    <tr>\n",
       "      <th>3</th>\n",
       "      <td>train eppo kelambum</td>\n",
       "      <td>travel</td>\n",
       "    </tr>\n",
       "    <tr>\n",
       "      <th>4</th>\n",
       "      <td>yesterday i have cancelled the flight ticket</td>\n",
       "      <td>travel</td>\n",
       "    </tr>\n",
       "  </tbody>\n",
       "</table>\n",
       "</div>"
      ],
      "text/plain": [
       "                                          message   category\n",
       "0                                    7am everyday  reminders\n",
       "1                                  chocolate cake       food\n",
       "2  closed mortice and tenon joint door dimentions    support\n",
       "3                             train eppo kelambum     travel\n",
       "4    yesterday i have cancelled the flight ticket     travel"
      ]
     },
     "execution_count": 3,
     "metadata": {},
     "output_type": "execute_result"
    }
   ],
   "source": [
    "#Function to create new column\n",
    "def label_race (row):\n",
    "    if row['food'] == \"T\":\n",
    "        return 'food'\n",
    "    elif row['recharge'] == \"T\":\n",
    "        return 'recharge'\n",
    "    elif row['support'] == \"T\":\n",
    "        return 'support'\n",
    "    elif row['reminders'] == \"T\":\n",
    "        return 'reminders'\n",
    "    elif row['travel'] == \"T\":\n",
    "        return 'travel'\n",
    "    elif row['nearby'] == \"T\":\n",
    "        return 'nearby'\n",
    "    elif row['movies'] == \"T\":\n",
    "        return 'movies'\n",
    "    elif row['casual'] == \"T\":\n",
    "        return 'casual'\n",
    "    else:\n",
    "        return \"other\"\n",
    "    \n",
    "# Creating a new column called category which has the column marked as true for that particular message. \n",
    "df[\"category\"] = df.apply (lambda row: label_race (row),axis=1)\n",
    "\n",
    "# Dropping all other columns except the category column\n",
    "drop_col= [\"food\", \"recharge\", \"support\", \"reminders\", \"nearby\", \"movies\", \"casual\", \"other\", \"travel\"]\n",
    "df = df.drop(drop_col,1)\n",
    "\n",
    "\n",
    "print(\"\\nUpdated dataframe:\\n\")\n",
    "df.head()"
   ]
  },
  {
   "cell_type": "markdown",
   "metadata": {},
   "source": [
    "# Data Processing"
   ]
  },
  {
   "cell_type": "code",
   "execution_count": 4,
   "metadata": {},
   "outputs": [],
   "source": [
    "from sklearn.feature_extraction.text import TfidfVectorizer\n",
    "from sklearn.preprocessing import LabelEncoder\n",
    "\n",
    "# Sampling only 1000 samples of each category\n",
    "df = df.groupby('category').apply(lambda x: x.sample(n=1000, random_state=0))\n",
    "\n",
    "# Code starts here\n",
    "\n",
    "# Converting all messages to lower case and storing it\n",
    "all_text = df[\"message\"].str.lower()\n",
    "\n",
    "# Initialising TF-IDF object\n",
    "tfidf = TfidfVectorizer(stop_words=\"english\")\n",
    "\n",
    "# Vectorizing data\n",
    "tfidf.fit(all_text)\n",
    "\n",
    "# Storing the TF-IDF vectorized data into an array\n",
    "X = tfidf.transform(all_text).toarray()\n",
    "\n",
    "# Initiating a label encoder object\n",
    "le = LabelEncoder()\n",
    "\n",
    "# Fitting the label encoder object on the data\n",
    "le.fit(df[\"category\"])\n",
    "\n",
    "# Transforming the data and storing it\n",
    "y = le.transform(df[\"category\"])"
   ]
  },
  {
   "cell_type": "markdown",
   "metadata": {},
   "source": [
    "# Classification implementation"
   ]
  },
  {
   "cell_type": "code",
   "execution_count": 5,
   "metadata": {},
   "outputs": [
    {
     "name": "stdout",
     "output_type": "stream",
     "text": [
      "Logistic Regression: 0.7066666666666667\n",
      "Naive Bayes Classifier: 0.7114814814814815\n",
      "Linear SVM: 0.7125925925925926\n"
     ]
    }
   ],
   "source": [
    "from sklearn.metrics import accuracy_score, classification_report\n",
    "from sklearn.model_selection import train_test_split\n",
    "from sklearn.naive_bayes import MultinomialNB\n",
    "from sklearn.linear_model import LogisticRegression\n",
    "from sklearn.svm import LinearSVC\n",
    "\n",
    "# Code starts here\n",
    "X_train,X_val,y_train,y_val = train_test_split(X,y,test_size=0.3, random_state=42) \n",
    "log_reg = LogisticRegression(random_state=0)\n",
    "log_reg.fit(X_train,y_train)\n",
    "y_pred = log_reg.predict(X_val)\n",
    "log_accuracy = accuracy_score(y_val,y_pred)\n",
    "print('Logistic Regression:',log_accuracy)\n",
    "\n",
    "nb = MultinomialNB()\n",
    "nb.fit(X_train,y_train)\n",
    "y_pred = nb.predict(X_val)\n",
    "nb_accuracy = accuracy_score(y_val,y_pred)\n",
    "print(\"Naive Bayes Classifier:\",nb_accuracy)\n",
    "\n",
    "lsvm = LinearSVC(random_state=0)\n",
    "lsvm.fit(X_train,y_train)\n",
    "y_pred = lsvm.predict(X_val)\n",
    "lsvm_accuracy = accuracy_score(y_val,y_pred)\n",
    "print(\"Linear SVM:\",lsvm_accuracy)"
   ]
  },
  {
   "cell_type": "markdown",
   "metadata": {},
   "source": [
    "# Load the test data"
   ]
  },
  {
   "cell_type": "code",
   "execution_count": 6,
   "metadata": {},
   "outputs": [
    {
     "data": {
      "text/html": [
       "<div>\n",
       "<style scoped>\n",
       "    .dataframe tbody tr th:only-of-type {\n",
       "        vertical-align: middle;\n",
       "    }\n",
       "\n",
       "    .dataframe tbody tr th {\n",
       "        vertical-align: top;\n",
       "    }\n",
       "\n",
       "    .dataframe thead th {\n",
       "        text-align: right;\n",
       "    }\n",
       "</style>\n",
       "<table border=\"1\" class=\"dataframe\">\n",
       "  <thead>\n",
       "    <tr style=\"text-align: right;\">\n",
       "      <th></th>\n",
       "      <th>message</th>\n",
       "      <th>category</th>\n",
       "    </tr>\n",
       "  </thead>\n",
       "  <tbody>\n",
       "    <tr>\n",
       "      <th>0</th>\n",
       "      <td>Nearest metro station</td>\n",
       "      <td>nearby</td>\n",
       "    </tr>\n",
       "    <tr>\n",
       "      <th>1</th>\n",
       "      <td>Pick up n drop service trough cab</td>\n",
       "      <td>travel</td>\n",
       "    </tr>\n",
       "    <tr>\n",
       "      <th>2</th>\n",
       "      <td>I wants to buy a bick</td>\n",
       "      <td>other</td>\n",
       "    </tr>\n",
       "    <tr>\n",
       "      <th>3</th>\n",
       "      <td>Show me pizza</td>\n",
       "      <td>food</td>\n",
       "    </tr>\n",
       "    <tr>\n",
       "      <th>4</th>\n",
       "      <td>What is the cheapest package to andaman and ni...</td>\n",
       "      <td>travel</td>\n",
       "    </tr>\n",
       "  </tbody>\n",
       "</table>\n",
       "</div>"
      ],
      "text/plain": [
       "                                             message category\n",
       "0                              Nearest metro station   nearby\n",
       "1                  Pick up n drop service trough cab   travel\n",
       "2                              I wants to buy a bick    other\n",
       "3                                      Show me pizza     food\n",
       "4  What is the cheapest package to andaman and ni...   travel"
      ]
     },
     "execution_count": 6,
     "metadata": {},
     "output_type": "execute_result"
    }
   ],
   "source": [
    "#Loading the dataframe\n",
    "df_test = pd.read_csv('./test.csv')\n",
    "\n",
    "#Creating the new column category\n",
    "df_test[\"category\"] = df_test.apply (lambda row: label_race (row),axis=1)\n",
    "\n",
    "#Dropping the other columns\n",
    "drop= [\"food\", \"recharge\", \"support\", \"reminders\", \"nearby\", \"movies\", \"casual\", \"other\", \"travel\"]\n",
    "df_test=  df_test.drop(drop,1)\n",
    "\n",
    "df_test.head()"
   ]
  },
  {
   "cell_type": "markdown",
   "metadata": {},
   "source": [
    "# Validation of test data"
   ]
  },
  {
   "cell_type": "code",
   "execution_count": 7,
   "metadata": {},
   "outputs": [
    {
     "name": "stdout",
     "output_type": "stream",
     "text": [
      "Logistic Regression: 0.77\n",
      "Naive Bayes Classifier: 0.6839\n",
      "Linear SVM: 0.7604\n"
     ]
    }
   ],
   "source": [
    "#convert to lower case \n",
    "all_text = df_test[\"message\"].str.lower()\n",
    "\n",
    "# Transforming using the tfidf object - tfidf\n",
    "X_test = tfidf.transform(all_text).toarray()\n",
    "\n",
    "# Transforming using label encoder object - le\n",
    "y_test = le.transform(df_test[\"category\"])\n",
    "\n",
    "# Predicting using the logistic regression model - logreg\n",
    "y_pred = log_reg.predict(X_test)\n",
    "log_accuracy_2 = accuracy_score(y_test,y_pred)\n",
    "print('Logistic Regression:',log_accuracy_2)\n",
    "\n",
    "# Predicting using the naive bayes model - nb\n",
    "y_pred = nb.predict(X_test)\n",
    "nb_accuracy_2 = accuracy_score(y_test,y_pred)\n",
    "print(\"Naive Bayes Classifier:\",nb_accuracy_2)\n",
    "\n",
    "\n",
    "# Predicting using the linear svm model - lsvm\n",
    "y_pred = lsvm.predict(X_test)\n",
    "lsvm_accuracy_2 = accuracy_score(y_test,y_pred)\n",
    "print(\"Linear SVM:\",lsvm_accuracy_2)"
   ]
  },
  {
   "cell_type": "markdown",
   "metadata": {},
   "source": [
    "# LSI Modeling"
   ]
  },
  {
   "cell_type": "code",
   "execution_count": 8,
   "metadata": {},
   "outputs": [
    {
     "name": "stdout",
     "output_type": "stream",
     "text": [
      "[(0,\n",
      "  '0.347*\"reminder\" + 0.267*\"like\" + 0.267*\"cancel\" + 0.266*\"would\" + '\n",
      "  '0.256*\"offset\" + 0.256*\"apiname\" + 0.256*\"exotel\" + 0.256*\"userid\" + '\n",
      "  '0.255*\"reminderlist\" + 0.255*\"taskname\"'),\n",
      " (1,\n",
      "  '-0.831*\"want\" + -0.221*\"u\" + -0.187*\"know\" + -0.181*\"movie\" + -0.135*\"book\" '\n",
      "  '+ -0.128*\"ticket\" + -0.114*\"need\" + -0.108*\"hi\" + -0.096*\"please\" + '\n",
      "  '-0.092*\"service\"'),\n",
      " (2,\n",
      "  '-0.451*\"reminder\" + 0.328*\"call\" + 0.316*\"u\" + 0.232*\"wake\" + '\n",
      "  '-0.204*\"water\" + 0.197*\"march\" + 0.192*\"wakeup\" + -0.186*\"every\" + '\n",
      "  '-0.181*\"drink\" + -0.168*\"want\"'),\n",
      " (3,\n",
      "  '-0.611*\"u\" + 0.419*\"want\" + -0.244*\"need\" + -0.238*\"reminder\" + '\n",
      "  '-0.197*\"please\" + -0.143*\"movie\" + -0.117*\"service\" + 0.102*\"wake\" + '\n",
      "  '-0.101*\"near\" + -0.101*\"help\"'),\n",
      " (4,\n",
      "  '-0.622*\"need\" + 0.510*\"u\" + -0.490*\"movie\" + -0.189*\"offer\" + 0.137*\"want\" '\n",
      "  '+ -0.115*\"ticket\" + -0.058*\"know\" + -0.051*\"today\" + 0.051*\"find\" + '\n",
      "  '-0.049*\"book\"')]\n"
     ]
    }
   ],
   "source": [
    "from nltk.corpus import stopwords\n",
    "from nltk.stem.wordnet import WordNetLemmatizer\n",
    "import string\n",
    "import gensim\n",
    "from gensim.models.lsimodel import LsiModel\n",
    "from gensim import corpora\n",
    "from pprint import pprint\n",
    "# import nltk\n",
    "# nltk.download('wordnet')\n",
    "\n",
    "# Creating a stopwords list\n",
    "stop = set(stopwords.words('english'))\n",
    "exclude = set(string.punctuation)\n",
    "lemma = WordNetLemmatizer()\n",
    "# Function to lemmatize and remove the stopwords\n",
    "def clean(doc):\n",
    "    stop_free = \" \".join([i for i in doc.lower().split() if i not in stop])\n",
    "    punc_free = \"\".join(ch for ch in stop_free if ch not in exclude)\n",
    "    normalized = \" \".join(lemma.lemmatize(word) for word in punc_free.split())\n",
    "    return normalized\n",
    "\n",
    "# Creating a list of documents from the complaints column\n",
    "list_of_docs = df[\"message\"].tolist()\n",
    "\n",
    "# Implementing the function for all the complaints of list_of_docs\n",
    "doc_clean = [clean(doc).split() for doc in list_of_docs]\n",
    "\n",
    "# Code starts here\n",
    "dictionary = corpora.Dictionary(doc_clean)\n",
    "\n",
    "doc_term_matrix = [dictionary.doc2bow(doc) for doc in doc_clean]\n",
    "\n",
    "lsimodel = LsiModel(corpus=doc_term_matrix, num_topics=5, id2word=dictionary)\n",
    "\n",
    "pprint(lsimodel.print_topics())"
   ]
  },
  {
   "cell_type": "markdown",
   "metadata": {},
   "source": [
    "# LDA Modeling"
   ]
  },
  {
   "cell_type": "code",
   "execution_count": 9,
   "metadata": {},
   "outputs": [
    {
     "name": "stdout",
     "output_type": "stream",
     "text": [
      "[0.3287476298674388, 0.4781725872247256, 0.46115894529180984, 0.5253656906944698, 0.5285224478360521, 0.5593474153069067, 0.5595998259747449, 0.5761708096054737]\n",
      "Optimum no. of topics: 36\n",
      "('0.320*\"ticket\" + 0.253*\"movie\" + 0.068*\"available\" + 0.049*\"also\" + '\n",
      " '0.032*\"logan\" + 0.030*\"mall\" + 0.026*\"name\" + 0.016*\"many\" + 0.012*\"nagpur\" '\n",
      " '+ 0.009*\"year\"')\n"
     ]
    }
   ],
   "source": [
    "from gensim.models import LdaModel\n",
    "from gensim.models import CoherenceModel\n",
    "\n",
    "# doc_term_matrix - Word matrix created in the last task\n",
    "# dictionary - Dictionary created in the last task\n",
    "\n",
    "# Function to calculate coherence values\n",
    "def compute_coherence_values(dictionary, corpus, texts, limit, start=2, step=3):\n",
    "    \"\"\"\n",
    "    Compute c_v coherence for various number of topics\n",
    "\n",
    "    Parameters:\n",
    "    ----------\n",
    "    dictionary : Gensim dictionary\n",
    "    corpus : Gensim corpus\n",
    "    texts : List of input texts\n",
    "    limit : Max num of topics\n",
    "\n",
    "    Returns:\n",
    "    -------\n",
    "    topic_list : No. of topics chosen\n",
    "    coherence_values : Coherence values corresponding to the LDA model with respective number of topics\n",
    "    \"\"\"\n",
    "    coherence_values = []\n",
    "    topic_list = []\n",
    "    for num_topics in range(start, limit, step):\n",
    "        model = gensim.models.ldamodel.LdaModel(doc_term_matrix, random_state = 0, num_topics=num_topics, id2word = dictionary, iterations=10)\n",
    "        topic_list.append(num_topics)\n",
    "        coherencemodel = CoherenceModel(model=model, texts=texts, dictionary=dictionary, coherence='c_v')\n",
    "        coherence_values.append(coherencemodel.get_coherence())\n",
    "\n",
    "    return topic_list, coherence_values\n",
    "\n",
    "# Calling the function\n",
    "topic_list, coherence_value_list = compute_coherence_values(dictionary=dictionary, corpus=doc_term_matrix, texts=doc_clean, start=1, limit=41, step=5)\n",
    "print(coherence_value_list)\n",
    "\n",
    "# Finding the index associated with maximum coherence value\n",
    "max_index=coherence_value_list.index(max(coherence_value_list))\n",
    "\n",
    "# Finding the optimum no. of topics associated with the maximum coherence value\n",
    "opt_topic= topic_list[max_index]\n",
    "print(\"Optimum no. of topics:\", opt_topic)\n",
    "\n",
    "# Implementing LDA with the optimum no. of topic\n",
    "lda_model = LdaModel(corpus=doc_term_matrix, num_topics=opt_topic, id2word = dictionary, iterations=10, passes = 30,random_state=0)\n",
    "\n",
    "# display top 5 topics\n",
    "pprint(lda_model.print_topic(5))"
   ]
  }
 ],
 "metadata": {
  "kernelspec": {
   "display_name": "Python [conda env:Python]",
   "language": "python",
   "name": "conda-env-Python-py"
  },
  "language_info": {
   "codemirror_mode": {
    "name": "ipython",
    "version": 3
   },
   "file_extension": ".py",
   "mimetype": "text/x-python",
   "name": "python",
   "nbconvert_exporter": "python",
   "pygments_lexer": "ipython3",
   "version": "3.7.4"
  }
 },
 "nbformat": 4,
 "nbformat_minor": 4
}
