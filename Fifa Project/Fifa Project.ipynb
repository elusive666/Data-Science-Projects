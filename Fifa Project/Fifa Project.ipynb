{
 "cells": [
  {
   "cell_type": "code",
   "execution_count": 1,
   "metadata": {},
   "outputs": [],
   "source": [
    "import numpy as np\n",
    "import pandas as pd\n",
    "import matplotlib.pyplot as plt\n",
    "import seaborn as sns\n",
    "from sklearn.linear_model import LinearRegression\n",
    "from sklearn.metrics import mean_absolute_error,mean_squared_error, r2_score\n",
    "from math import sqrt\n",
    "from sklearn.model_selection import train_test_split\n",
    "from sklearn.preprocessing import PolynomialFeatures"
   ]
  },
  {
   "cell_type": "markdown",
   "metadata": {},
   "source": [
    "# Dataframe creation\n",
    "You can't do any analysis without data. In this task you will convert the available data to a dataframe taking only the required columns"
   ]
  },
  {
   "cell_type": "code",
   "execution_count": 2,
   "metadata": {},
   "outputs": [
    {
     "name": "stderr",
     "output_type": "stream",
     "text": [
      "D:\\anaconda\\lib\\site-packages\\IPython\\core\\interactiveshell.py:3049: DtypeWarning: Columns (22,34) have mixed types. Specify dtype option on import or set low_memory=False.\n",
      "  interactivity=interactivity, compiler=compiler, result=result)\n"
     ]
    },
    {
     "data": {
      "text/html": [
       "<div>\n",
       "<style scoped>\n",
       "    .dataframe tbody tr th:only-of-type {\n",
       "        vertical-align: middle;\n",
       "    }\n",
       "\n",
       "    .dataframe tbody tr th {\n",
       "        vertical-align: top;\n",
       "    }\n",
       "\n",
       "    .dataframe thead th {\n",
       "        text-align: right;\n",
       "    }\n",
       "</style>\n",
       "<table border=\"1\" class=\"dataframe\">\n",
       "  <thead>\n",
       "    <tr style=\"text-align: right;\">\n",
       "      <th></th>\n",
       "      <th>Name</th>\n",
       "      <th>Age</th>\n",
       "      <th>Nationality</th>\n",
       "      <th>Overall</th>\n",
       "      <th>Potential</th>\n",
       "      <th>Club</th>\n",
       "      <th>Value</th>\n",
       "      <th>Preferred Positions</th>\n",
       "      <th>Wage</th>\n",
       "    </tr>\n",
       "  </thead>\n",
       "  <tbody>\n",
       "    <tr>\n",
       "      <th>0</th>\n",
       "      <td>Cristiano Ronaldo</td>\n",
       "      <td>32</td>\n",
       "      <td>Portugal</td>\n",
       "      <td>94</td>\n",
       "      <td>94</td>\n",
       "      <td>Real Madrid CF</td>\n",
       "      <td>€95.5M</td>\n",
       "      <td>ST LW</td>\n",
       "      <td>€565K</td>\n",
       "    </tr>\n",
       "    <tr>\n",
       "      <th>1</th>\n",
       "      <td>L. Messi</td>\n",
       "      <td>30</td>\n",
       "      <td>Argentina</td>\n",
       "      <td>93</td>\n",
       "      <td>93</td>\n",
       "      <td>FC Barcelona</td>\n",
       "      <td>€105M</td>\n",
       "      <td>RW</td>\n",
       "      <td>€565K</td>\n",
       "    </tr>\n",
       "    <tr>\n",
       "      <th>2</th>\n",
       "      <td>Neymar</td>\n",
       "      <td>25</td>\n",
       "      <td>Brazil</td>\n",
       "      <td>92</td>\n",
       "      <td>94</td>\n",
       "      <td>Paris Saint-Germain</td>\n",
       "      <td>€123M</td>\n",
       "      <td>LW</td>\n",
       "      <td>€280K</td>\n",
       "    </tr>\n",
       "    <tr>\n",
       "      <th>3</th>\n",
       "      <td>L. Suárez</td>\n",
       "      <td>30</td>\n",
       "      <td>Uruguay</td>\n",
       "      <td>92</td>\n",
       "      <td>92</td>\n",
       "      <td>FC Barcelona</td>\n",
       "      <td>€97M</td>\n",
       "      <td>ST</td>\n",
       "      <td>€510K</td>\n",
       "    </tr>\n",
       "    <tr>\n",
       "      <th>4</th>\n",
       "      <td>M. Neuer</td>\n",
       "      <td>31</td>\n",
       "      <td>Germany</td>\n",
       "      <td>92</td>\n",
       "      <td>92</td>\n",
       "      <td>FC Bayern Munich</td>\n",
       "      <td>€61M</td>\n",
       "      <td>GK</td>\n",
       "      <td>€230K</td>\n",
       "    </tr>\n",
       "  </tbody>\n",
       "</table>\n",
       "</div>"
      ],
      "text/plain": [
       "                Name  Age Nationality  Overall  Potential  \\\n",
       "0  Cristiano Ronaldo   32    Portugal       94         94   \n",
       "1           L. Messi   30   Argentina       93         93   \n",
       "2             Neymar   25      Brazil       92         94   \n",
       "3          L. Suárez   30     Uruguay       92         92   \n",
       "4           M. Neuer   31     Germany       92         92   \n",
       "\n",
       "                  Club   Value Preferred Positions   Wage  \n",
       "0       Real Madrid CF  €95.5M              ST LW   €565K  \n",
       "1         FC Barcelona   €105M                 RW   €565K  \n",
       "2  Paris Saint-Germain   €123M                 LW   €280K  \n",
       "3         FC Barcelona    €97M                 ST   €510K  \n",
       "4     FC Bayern Munich    €61M                 GK   €230K  "
      ]
     },
     "execution_count": 2,
     "metadata": {},
     "output_type": "execute_result"
    }
   ],
   "source": [
    "df = pd.read_csv(r'C:\\Users\\SHRIK\\Desktop\\shrikant\\Projects\\GreyAtom Projects\\Fifa Project\\data\\fifa.csv')\n",
    "df = df[['Name', 'Age', 'Nationality', 'Overall', 'Potential', 'Club', 'Value', 'Preferred Positions', 'Wage']]\n",
    "df.head()"
   ]
  },
  {
   "cell_type": "markdown",
   "metadata": {},
   "source": [
    "# Data preprocessing\n",
    "After loading the required data into structured format, next step is to cleanse the data for better analysis."
   ]
  },
  {
   "cell_type": "code",
   "execution_count": 3,
   "metadata": {},
   "outputs": [
    {
     "data": {
      "text/html": [
       "<div>\n",
       "<style scoped>\n",
       "    .dataframe tbody tr th:only-of-type {\n",
       "        vertical-align: middle;\n",
       "    }\n",
       "\n",
       "    .dataframe tbody tr th {\n",
       "        vertical-align: top;\n",
       "    }\n",
       "\n",
       "    .dataframe thead th {\n",
       "        text-align: right;\n",
       "    }\n",
       "</style>\n",
       "<table border=\"1\" class=\"dataframe\">\n",
       "  <thead>\n",
       "    <tr style=\"text-align: right;\">\n",
       "      <th></th>\n",
       "      <th>Name</th>\n",
       "      <th>Age</th>\n",
       "      <th>Nationality</th>\n",
       "      <th>Overall</th>\n",
       "      <th>Potential</th>\n",
       "      <th>Club</th>\n",
       "      <th>Value</th>\n",
       "      <th>Preferred Positions</th>\n",
       "      <th>Wage</th>\n",
       "      <th>Value (M)</th>\n",
       "      <th>Wage (M)</th>\n",
       "      <th>Position</th>\n",
       "    </tr>\n",
       "  </thead>\n",
       "  <tbody>\n",
       "    <tr>\n",
       "      <th>0</th>\n",
       "      <td>Cristiano Ronaldo</td>\n",
       "      <td>32</td>\n",
       "      <td>Portugal</td>\n",
       "      <td>94</td>\n",
       "      <td>94</td>\n",
       "      <td>Real Madrid CF</td>\n",
       "      <td>€95.5M</td>\n",
       "      <td>ST LW</td>\n",
       "      <td>€565K</td>\n",
       "      <td>95.5</td>\n",
       "      <td>0.565</td>\n",
       "      <td>ST</td>\n",
       "    </tr>\n",
       "    <tr>\n",
       "      <th>1</th>\n",
       "      <td>L. Messi</td>\n",
       "      <td>30</td>\n",
       "      <td>Argentina</td>\n",
       "      <td>93</td>\n",
       "      <td>93</td>\n",
       "      <td>FC Barcelona</td>\n",
       "      <td>€105M</td>\n",
       "      <td>RW</td>\n",
       "      <td>€565K</td>\n",
       "      <td>105.0</td>\n",
       "      <td>0.565</td>\n",
       "      <td>RW</td>\n",
       "    </tr>\n",
       "    <tr>\n",
       "      <th>2</th>\n",
       "      <td>Neymar</td>\n",
       "      <td>25</td>\n",
       "      <td>Brazil</td>\n",
       "      <td>92</td>\n",
       "      <td>94</td>\n",
       "      <td>Paris Saint-Germain</td>\n",
       "      <td>€123M</td>\n",
       "      <td>LW</td>\n",
       "      <td>€280K</td>\n",
       "      <td>123.0</td>\n",
       "      <td>0.280</td>\n",
       "      <td>LW</td>\n",
       "    </tr>\n",
       "    <tr>\n",
       "      <th>3</th>\n",
       "      <td>L. Suárez</td>\n",
       "      <td>30</td>\n",
       "      <td>Uruguay</td>\n",
       "      <td>92</td>\n",
       "      <td>92</td>\n",
       "      <td>FC Barcelona</td>\n",
       "      <td>€97M</td>\n",
       "      <td>ST</td>\n",
       "      <td>€510K</td>\n",
       "      <td>97.0</td>\n",
       "      <td>0.510</td>\n",
       "      <td>ST</td>\n",
       "    </tr>\n",
       "    <tr>\n",
       "      <th>4</th>\n",
       "      <td>M. Neuer</td>\n",
       "      <td>31</td>\n",
       "      <td>Germany</td>\n",
       "      <td>92</td>\n",
       "      <td>92</td>\n",
       "      <td>FC Bayern Munich</td>\n",
       "      <td>€61M</td>\n",
       "      <td>GK</td>\n",
       "      <td>€230K</td>\n",
       "      <td>61.0</td>\n",
       "      <td>0.230</td>\n",
       "      <td>GK</td>\n",
       "    </tr>\n",
       "  </tbody>\n",
       "</table>\n",
       "</div>"
      ],
      "text/plain": [
       "                Name  Age Nationality  Overall  Potential  \\\n",
       "0  Cristiano Ronaldo   32    Portugal       94         94   \n",
       "1           L. Messi   30   Argentina       93         93   \n",
       "2             Neymar   25      Brazil       92         94   \n",
       "3          L. Suárez   30     Uruguay       92         92   \n",
       "4           M. Neuer   31     Germany       92         92   \n",
       "\n",
       "                  Club   Value Preferred Positions   Wage  Value (M)  \\\n",
       "0       Real Madrid CF  €95.5M              ST LW   €565K       95.5   \n",
       "1         FC Barcelona   €105M                 RW   €565K      105.0   \n",
       "2  Paris Saint-Germain   €123M                 LW   €280K      123.0   \n",
       "3         FC Barcelona    €97M                 ST   €510K       97.0   \n",
       "4     FC Bayern Munich    €61M                 GK   €230K       61.0   \n",
       "\n",
       "   Wage (M) Position  \n",
       "0     0.565       ST  \n",
       "1     0.565       RW  \n",
       "2     0.280       LW  \n",
       "3     0.510       ST  \n",
       "4     0.230       GK  "
      ]
     },
     "execution_count": 3,
     "metadata": {},
     "output_type": "execute_result"
    }
   ],
   "source": [
    "# Removes the symbol from values\n",
    "df['Unit'] = df['Value'].str[-1]\n",
    "df['Value (M)'] = np.where(df['Unit'] == '0', 0, df['Value'].str[1:-1].replace(r'[a-zA-Z]', ''))\n",
    "df['Value (M)'] = df['Value (M)'].astype(float)\n",
    "df['Value (M)'] = np.where(df['Unit'] == 'M', df['Value (M)'], df['Value (M)']/1000)\n",
    "\n",
    "# Removes the symbol from Wage\n",
    "df['Unit2'] = df['Wage'].str[-1]\n",
    "df['Wage (M)'] = np.where(df['Unit2'] == '0', 0, df['Wage'].str[1:-1].replace(r'[a-zA-Z]', ''))\n",
    "df['Wage (M)'] = df['Wage (M)'].astype(float)\n",
    "df['Wage (M)'] = np.where(df['Unit2'] == 'M', df['Wage (M)'], df['Wage (M)']/1000)\n",
    "\n",
    "# Drop the Unit and Unit2 from df\n",
    "df = df.drop(['Unit', 'Unit2'], 1)\n",
    "\n",
    "# New column position\n",
    "df['Position'] = df['Preferred Positions'].str.split().str[0]\n",
    "df.head()"
   ]
  },
  {
   "cell_type": "markdown",
   "metadata": {},
   "source": [
    "# Visualization\n",
    "A rich club has decided to hire you as their manager. You have all the money to build a team from scratch.\n",
    "\n",
    "Now you have the data. Being a data scientist, you first want to check the general trend of market with respect to players and their worth."
   ]
  },
  {
   "cell_type": "code",
   "execution_count": 4,
   "metadata": {},
   "outputs": [
    {
     "data": {
      "text/plain": [
       "<matplotlib.legend.Legend at 0x1d39794d160>"
      ]
     },
     "execution_count": 4,
     "metadata": {},
     "output_type": "execute_result"
    },
    {
     "data": {
      "image/png": "[encoded data removed]",
      "text/plain": [
       "<Figure size 1152x576 with 1 Axes>"
      ]
     },
     "metadata": {
      "needs_background": "light"
     },
     "output_type": "display_data"
    },
    {
     "data": {
      "image/png": "[encoded data removed]",
      "text/plain": [
       "<Figure size 1152x576 with 1 Axes>"
      ]
     },
     "metadata": {
      "needs_background": "light"
     },
     "output_type": "display_data"
    },
    {
     "data": {
      "text/plain": [
       "<Figure size 432x288 with 0 Axes>"
      ]
     },
     "metadata": {},
     "output_type": "display_data"
    },
    {
     "data": {
      "image/png": "[encoded data removed]",
      "text/plain": [
       "<Figure size 1152x576 with 1 Axes>"
      ]
     },
     "metadata": {},
     "output_type": "display_data"
    }
   ],
   "source": [
    "# groups of player by there position\n",
    "plt.figure(figsize=(16,8))\n",
    "plt.title('Grouping players by Prefered Position', fontsize=18, fontweight='bold', y=1.05,)\n",
    "plt.xlabel('Number of players', fontsize=12)\n",
    "plt.ylabel('Players Age', fontsize=12)\n",
    "sns.countplot(x=\"Position\", data= df)\n",
    "\n",
    "# Wage distribution of top 100 players\n",
    "value_distribution_values = df.sort_values(\"Wage (M)\", ascending=False).reset_index().head(100)[[\"Name\", \"Wage (M)\"]]\n",
    "plt.figure(figsize=(16,8))\n",
    "plt.title('Top 100 Players Wage Distribution', fontsize=20, fontweight='bold')\n",
    "plt.ylabel('Player Wage [M€]', fontsize=15)\n",
    "sns.set_style(\"whitegrid\")\n",
    "plt.plot(value_distribution_values['Wage (M)'])\n",
    "    \n",
    "# Comparision graph of Overall vs values(M)\n",
    "overall = df.sort_values('Overall')['Overall'].unique()    \n",
    "overall_value = df.groupby(['Overall'])['Value (M)'].mean()\n",
    "    \n",
    "plt.figure()\n",
    "plt.figure(figsize=(16,8))\n",
    "plt.title('Overall vs Value', fontsize=20, fontweight='bold')\n",
    "plt.xlabel('Overall', fontsize=15)\n",
    "plt.ylabel('Value', fontsize=15)\n",
    "sns.set_style(\"whitegrid\")\n",
    "plt.plot(overall, overall_value, label=\"Values in [M€]\")\n",
    "plt.legend(loc=4, prop={'size': 15}, frameon=True,shadow=True, facecolor=\"white\", edgecolor=\"black\")"
   ]
  },
  {
   "cell_type": "markdown",
   "metadata": {},
   "source": [
    "# Finding the Best Squad\n",
    "You have analysed the market and decided that the market is fair with respect to players and their worth. Your club has asked you to buy best players of their respective playing position. Based on your tactical football mind, you have two gameplay position list, \n",
    "1. 4-3-3 https://7500toholte.sbnation.com/2015/5/8/8566029/football-tactics-basics-the-4-3-3-formation-explained \n",
    "2. 3-5-2 https://7500toholte.sbnation.com/2015/7/14/8933799/football-tactics-basics-the-3-5-2-formation-explained"
   ]
  },
  {
   "cell_type": "code",
   "execution_count": 5,
   "metadata": {},
   "outputs": [
    {
     "name": "stdout",
     "output_type": "stream",
     "text": [
      "   Position              Player Overall\n",
      "0        GK            M. Neuer      92\n",
      "1        LB             Marcelo      87\n",
      "2        CB        Sergio Ramos      90\n",
      "3        CB        Sergio Ramos      90\n",
      "4        RB            Carvajal      84\n",
      "5        LM          C. Eriksen      87\n",
      "6       CDM            T. Kroos      90\n",
      "7        RM        K. De Bruyne      89\n",
      "8        LW              Neymar      92\n",
      "9        ST   Cristiano Ronaldo      94\n",
      "10       RW            L. Messi      93\n",
      "['GK', 'LB', 'CB', 'CB', 'RB', 'LM', 'CDM', 'RM', 'LW', 'ST', 'RW']\n"
     ]
    }
   ],
   "source": [
    "p_list_1= ['GK', 'LB', 'CB', 'CB', 'RB', 'LM', 'CDM', 'RM', 'LW', 'ST', 'RW']\n",
    "\n",
    "p_list_2 = ['GK', 'LWB', 'CB', 'RWB', 'LM', 'CDM', 'CAM', 'CM', 'RM', 'LW', 'RW']\n",
    "\n",
    "    \n",
    "# p_list_1 stats\n",
    "df_copy = df.copy()\n",
    "store = []\n",
    "for i in p_list_1:\n",
    "    store.append([i,df_copy.loc[[df_copy[df_copy['Position'] == i]['Overall'].idxmax()]]['Name'].to_string(index=False), df_copy[df_copy['Position'] == i]['Overall'].max()])\n",
    "df_copy.drop(df_copy[df_copy['Position'] == i]['Overall'].idxmax(), inplace=True)\n",
    "# return store\n",
    "df1= pd.DataFrame(np.array(store).reshape(11, 3), columns=['Position', 'Player', 'Overall'])\n",
    "\n",
    "# p_list_2 stats\n",
    "df_copy = df.copy()\n",
    "store = []\n",
    "for i in p_list_2:\n",
    "    store.append([i,df_copy.loc[[df_copy[df_copy['Position'] == i]['Overall'].idxmax()]]['Name'].to_string(index=False), df_copy[df_copy['Position'] == i]['Overall'].max()])\n",
    "df_copy.drop(df_copy[df_copy['Position'] == i]['Overall'].idxmax(), inplace=True)\n",
    "\n",
    "# return store\n",
    "df2= pd.DataFrame(np.array(store).reshape(11, 3), columns=['Position', 'Player', 'Overall'])\n",
    "\n",
    "if df1['Overall'].mean() > df2['Overall'].mean():\n",
    "        print(df1)\n",
    "        print(p_list_1)\n",
    "else:\n",
    "    print(df2)\n",
    "    print(p_list_2)\n",
    "        \n",
    "    \n",
    "    \n",
    "    "
   ]
  },
  {
   "cell_type": "markdown",
   "metadata": {},
   "source": [
    "# Player Transfer\n",
    "With your invincible team, you have won the club cup. It's time for the summer market transfer. The club owner has asked you to buy a future prospect named 'Alex Rodriguez'.\n",
    "\n",
    "You are confused as to what value you should buy the player for. Thankfully your data science skills will help"
   ]
  },
  {
   "cell_type": "code",
   "execution_count": 6,
   "metadata": {},
   "outputs": [
    {
     "name": "stdout",
     "output_type": "stream",
     "text": [
      "Mean Absolute Error:  1.394595127663726\n",
      "R2 score:  0.746327813472971\n"
     ]
    }
   ],
   "source": [
    "# independent variables\n",
    "X = df[['Overall','Potential','Wage (M)']]\n",
    "\n",
    "# dependent variables\n",
    "y = df['Value (M)'].copy()\n",
    "\n",
    "# Split the dataset    \n",
    "X_train, X_test,y_train, y_test = train_test_split(X,y, test_size=0.3, random_state=0)\n",
    "\n",
    "# Instantiate linear regression\n",
    "model = LinearRegression()\n",
    "\n",
    "# fit the model on training data\n",
    "model.fit(X_train,y_train)\n",
    "\n",
    "\n",
    "# make prediction\n",
    "y_pred = model.predict(X_test)\n",
    "\n",
    "# calculate the mean_absolute_error\n",
    "mae = mean_absolute_error(y_test, y_pred)\n",
    "print(\"Mean Absolute Error: \",mae)\n",
    "\n",
    "# calculate the r2 score\n",
    "r2 = r2_score(y_test, y_pred)\n",
    "print(\"R2 score: \",r2)    "
   ]
  },
  {
   "cell_type": "markdown",
   "metadata": {},
   "source": [
    "# Introducing Polynomial function to linear regression\n",
    "There are numerous ways to improve a model. One being implementation of Polynomial Function."
   ]
  },
  {
   "cell_type": "code",
   "execution_count": 7,
   "metadata": {},
   "outputs": [
    {
     "name": "stdout",
     "output_type": "stream",
     "text": [
      "Mean Absolute Error 0.5326507223889104\n",
      "R2 score:  0.9307805489704964\n"
     ]
    }
   ],
   "source": [
    "# Instantiate third degree polynomial features\n",
    "poly = PolynomialFeatures(degree=3)\n",
    "   \n",
    "# fit and transform polynomial features on X_train    \n",
    "X_train_2 = poly.fit_transform(X_train)\n",
    "\n",
    "# instantiate Linear regression model\n",
    "model=LinearRegression()\n",
    "\n",
    "# fit the model \n",
    "model.fit(X_train_2,y_train)\n",
    "    \n",
    "# transform on x_test    \n",
    "X_test_2 = poly.transform(X_test)\n",
    "\n",
    "# predict the model performance\n",
    "y_pred_2=model.predict(X_test_2)\n",
    "    \n",
    "# Calculate the mean absolute error    \n",
    "mae= mean_absolute_error(y_test, y_pred_2)\n",
    "print(\"Mean Absolute Error\",mae)\n",
    "\n",
    "# calculate the r2 score\n",
    "r2= r2_score(y_test, y_pred_2)\n",
    "print(\"R2 score: \",r2)"
   ]
  }
 ],
 "metadata": {
  "kernelspec": {
   "display_name": "Python 3",
   "language": "python",
   "name": "python3"
  },
  "language_info": {
   "codemirror_mode": {
    "name": "ipython",
    "version": 3
   },
   "file_extension": ".py",
   "mimetype": "text/x-python",
   "name": "python",
   "nbconvert_exporter": "python",
   "pygments_lexer": "ipython3",
   "version": "3.7.3"
  }
 },
 "nbformat": 4,
 "nbformat_minor": 2
}
