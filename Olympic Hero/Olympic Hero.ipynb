{
 "cells": [
  {
   "cell_type": "code",
   "execution_count": 1,
   "metadata": {},
   "outputs": [],
   "source": [
    "import pandas as pd\n",
    "import numpy as np\n",
    "import matplotlib.pyplot as plt"
   ]
  },
  {
   "cell_type": "markdown",
   "metadata": {},
   "source": [
    "# Data Loading"
   ]
  },
  {
   "cell_type": "code",
   "execution_count": 2,
   "metadata": {},
   "outputs": [
    {
     "data": {
      "text/html": [
       "<div>\n",
       "<style scoped>\n",
       "    .dataframe tbody tr th:only-of-type {\n",
       "        vertical-align: middle;\n",
       "    }\n",
       "\n",
       "    .dataframe tbody tr th {\n",
       "        vertical-align: top;\n",
       "    }\n",
       "\n",
       "    .dataframe thead th {\n",
       "        text-align: right;\n",
       "    }\n",
       "</style>\n",
       "<table border=\"1\" class=\"dataframe\">\n",
       "  <thead>\n",
       "    <tr style=\"text-align: right;\">\n",
       "      <th></th>\n",
       "      <th>Country_Name</th>\n",
       "      <th># Summer</th>\n",
       "      <th>Gold_Summer</th>\n",
       "      <th>Silver_Summer</th>\n",
       "      <th>Bronze_Summer</th>\n",
       "      <th>Total_Summer</th>\n",
       "      <th># Winter</th>\n",
       "      <th>Gold_Winter</th>\n",
       "      <th>Silver_Winter</th>\n",
       "      <th>Bronze_Winter</th>\n",
       "      <th>Total_Winter</th>\n",
       "      <th># Games</th>\n",
       "      <th>Gold_Total</th>\n",
       "      <th>Silver_Total</th>\n",
       "      <th>Bronze_Total</th>\n",
       "      <th>Total_Medals</th>\n",
       "    </tr>\n",
       "  </thead>\n",
       "  <tbody>\n",
       "    <tr>\n",
       "      <th>0</th>\n",
       "      <td>Afghanistan</td>\n",
       "      <td>13</td>\n",
       "      <td>0</td>\n",
       "      <td>0</td>\n",
       "      <td>2</td>\n",
       "      <td>2</td>\n",
       "      <td>0</td>\n",
       "      <td>0</td>\n",
       "      <td>0</td>\n",
       "      <td>0</td>\n",
       "      <td>0</td>\n",
       "      <td>13</td>\n",
       "      <td>0</td>\n",
       "      <td>0</td>\n",
       "      <td>2</td>\n",
       "      <td>2</td>\n",
       "    </tr>\n",
       "    <tr>\n",
       "      <th>1</th>\n",
       "      <td>Algeria</td>\n",
       "      <td>12</td>\n",
       "      <td>5</td>\n",
       "      <td>2</td>\n",
       "      <td>8</td>\n",
       "      <td>15</td>\n",
       "      <td>3</td>\n",
       "      <td>0</td>\n",
       "      <td>0</td>\n",
       "      <td>0</td>\n",
       "      <td>0</td>\n",
       "      <td>15</td>\n",
       "      <td>5</td>\n",
       "      <td>2</td>\n",
       "      <td>8</td>\n",
       "      <td>15</td>\n",
       "    </tr>\n",
       "    <tr>\n",
       "      <th>2</th>\n",
       "      <td>Argentina</td>\n",
       "      <td>23</td>\n",
       "      <td>18</td>\n",
       "      <td>24</td>\n",
       "      <td>28</td>\n",
       "      <td>70</td>\n",
       "      <td>18</td>\n",
       "      <td>0</td>\n",
       "      <td>0</td>\n",
       "      <td>0</td>\n",
       "      <td>0</td>\n",
       "      <td>41</td>\n",
       "      <td>18</td>\n",
       "      <td>24</td>\n",
       "      <td>28</td>\n",
       "      <td>70</td>\n",
       "    </tr>\n",
       "    <tr>\n",
       "      <th>3</th>\n",
       "      <td>Armenia</td>\n",
       "      <td>5</td>\n",
       "      <td>1</td>\n",
       "      <td>2</td>\n",
       "      <td>9</td>\n",
       "      <td>12</td>\n",
       "      <td>6</td>\n",
       "      <td>0</td>\n",
       "      <td>0</td>\n",
       "      <td>0</td>\n",
       "      <td>0</td>\n",
       "      <td>11</td>\n",
       "      <td>1</td>\n",
       "      <td>2</td>\n",
       "      <td>9</td>\n",
       "      <td>12</td>\n",
       "    </tr>\n",
       "    <tr>\n",
       "      <th>4</th>\n",
       "      <td>Australasia</td>\n",
       "      <td>2</td>\n",
       "      <td>3</td>\n",
       "      <td>4</td>\n",
       "      <td>5</td>\n",
       "      <td>12</td>\n",
       "      <td>0</td>\n",
       "      <td>0</td>\n",
       "      <td>0</td>\n",
       "      <td>0</td>\n",
       "      <td>0</td>\n",
       "      <td>2</td>\n",
       "      <td>3</td>\n",
       "      <td>4</td>\n",
       "      <td>5</td>\n",
       "      <td>12</td>\n",
       "    </tr>\n",
       "    <tr>\n",
       "      <th>5</th>\n",
       "      <td>Australia</td>\n",
       "      <td>25</td>\n",
       "      <td>139</td>\n",
       "      <td>152</td>\n",
       "      <td>177</td>\n",
       "      <td>468</td>\n",
       "      <td>18</td>\n",
       "      <td>5</td>\n",
       "      <td>3</td>\n",
       "      <td>4</td>\n",
       "      <td>12</td>\n",
       "      <td>43</td>\n",
       "      <td>144</td>\n",
       "      <td>155</td>\n",
       "      <td>181</td>\n",
       "      <td>480</td>\n",
       "    </tr>\n",
       "    <tr>\n",
       "      <th>6</th>\n",
       "      <td>Austria</td>\n",
       "      <td>26</td>\n",
       "      <td>18</td>\n",
       "      <td>33</td>\n",
       "      <td>35</td>\n",
       "      <td>86</td>\n",
       "      <td>22</td>\n",
       "      <td>59</td>\n",
       "      <td>78</td>\n",
       "      <td>81</td>\n",
       "      <td>218</td>\n",
       "      <td>48</td>\n",
       "      <td>77</td>\n",
       "      <td>111</td>\n",
       "      <td>116</td>\n",
       "      <td>304</td>\n",
       "    </tr>\n",
       "    <tr>\n",
       "      <th>7</th>\n",
       "      <td>Azerbaijan</td>\n",
       "      <td>5</td>\n",
       "      <td>6</td>\n",
       "      <td>5</td>\n",
       "      <td>15</td>\n",
       "      <td>26</td>\n",
       "      <td>5</td>\n",
       "      <td>0</td>\n",
       "      <td>0</td>\n",
       "      <td>0</td>\n",
       "      <td>0</td>\n",
       "      <td>10</td>\n",
       "      <td>6</td>\n",
       "      <td>5</td>\n",
       "      <td>15</td>\n",
       "      <td>26</td>\n",
       "    </tr>\n",
       "    <tr>\n",
       "      <th>8</th>\n",
       "      <td>Bahamas</td>\n",
       "      <td>15</td>\n",
       "      <td>5</td>\n",
       "      <td>2</td>\n",
       "      <td>5</td>\n",
       "      <td>12</td>\n",
       "      <td>0</td>\n",
       "      <td>0</td>\n",
       "      <td>0</td>\n",
       "      <td>0</td>\n",
       "      <td>0</td>\n",
       "      <td>15</td>\n",
       "      <td>5</td>\n",
       "      <td>2</td>\n",
       "      <td>5</td>\n",
       "      <td>12</td>\n",
       "    </tr>\n",
       "    <tr>\n",
       "      <th>9</th>\n",
       "      <td>Bahrain</td>\n",
       "      <td>8</td>\n",
       "      <td>0</td>\n",
       "      <td>0</td>\n",
       "      <td>1</td>\n",
       "      <td>1</td>\n",
       "      <td>0</td>\n",
       "      <td>0</td>\n",
       "      <td>0</td>\n",
       "      <td>0</td>\n",
       "      <td>0</td>\n",
       "      <td>8</td>\n",
       "      <td>0</td>\n",
       "      <td>0</td>\n",
       "      <td>1</td>\n",
       "      <td>1</td>\n",
       "    </tr>\n",
       "  </tbody>\n",
       "</table>\n",
       "</div>"
      ],
      "text/plain": [
       "  Country_Name  # Summer  Gold_Summer  Silver_Summer  Bronze_Summer  \\\n",
       "0  Afghanistan        13            0              0              2   \n",
       "1      Algeria        12            5              2              8   \n",
       "2    Argentina        23           18             24             28   \n",
       "3      Armenia         5            1              2              9   \n",
       "4  Australasia         2            3              4              5   \n",
       "5    Australia        25          139            152            177   \n",
       "6      Austria        26           18             33             35   \n",
       "7   Azerbaijan         5            6              5             15   \n",
       "8      Bahamas        15            5              2              5   \n",
       "9      Bahrain         8            0              0              1   \n",
       "\n",
       "   Total_Summer  # Winter  Gold_Winter  Silver_Winter  Bronze_Winter  \\\n",
       "0             2         0            0              0              0   \n",
       "1            15         3            0              0              0   \n",
       "2            70        18            0              0              0   \n",
       "3            12         6            0              0              0   \n",
       "4            12         0            0              0              0   \n",
       "5           468        18            5              3              4   \n",
       "6            86        22           59             78             81   \n",
       "7            26         5            0              0              0   \n",
       "8            12         0            0              0              0   \n",
       "9             1         0            0              0              0   \n",
       "\n",
       "   Total_Winter  # Games  Gold_Total  Silver_Total  Bronze_Total  Total_Medals  \n",
       "0             0       13           0             0             2             2  \n",
       "1             0       15           5             2             8            15  \n",
       "2             0       41          18            24            28            70  \n",
       "3             0       11           1             2             9            12  \n",
       "4             0        2           3             4             5            12  \n",
       "5            12       43         144           155           181           480  \n",
       "6           218       48          77           111           116           304  \n",
       "7             0       10           6             5            15            26  \n",
       "8             0       15           5             2             5            12  \n",
       "9             0        8           0             0             1             1  "
      ]
     },
     "execution_count": 2,
     "metadata": {},
     "output_type": "execute_result"
    }
   ],
   "source": [
    "data=pd.read_csv(r'C:\\Users\\SHRIK\\Desktop\\shrikant\\Projects\\GreyAtom Projects\\Olympic Hero\\data\\olympic.csv')\n",
    "data.rename(columns={'Total':'Total_Medals'},inplace=True)\n",
    "data.head(10)"
   ]
  },
  {
   "cell_type": "markdown",
   "metadata": {},
   "source": [
    "# Summer or Winter\n",
    "Some Countries love Summer, some Winter. We think it has to do something with their Olympic performance.\n",
    "\n",
    "For this task we will try to figure out which olympic event does a country perform better in."
   ]
  },
  {
   "cell_type": "code",
   "execution_count": 3,
   "metadata": {},
   "outputs": [
    {
     "name": "stdout",
     "output_type": "stream",
     "text": [
      "Better_Event= Summer\n"
     ]
    }
   ],
   "source": [
    "#Creating new column 'Better_Event'\n",
    "data['Better_Event'] = np.where(data['Total_Summer'] > data['Total_Winter'] , 'Summer', 'Winter')\n",
    "data['Better_Event'] = np.where(data['Total_Summer'] == data['Total_Winter'] , 'Both', data['Better_Event'])\n",
    "\n",
    "#Finding the value with max count in 'Better_Event' column\n",
    "better_event=data['Better_Event'].value_counts().index.values[0]\n",
    "\n",
    "#Printing the better event\n",
    "print('Better_Event=', better_event)"
   ]
  },
  {
   "cell_type": "markdown",
   "metadata": {},
   "source": [
    "# Top 10\n",
    "So we figured out which is a better event for each country. Let's move on to finding out the best performing countries across all events\n",
    "\n",
    "In this task we will try to find\n",
    "\n",
    "Which are the top 10 performing teams at summer event (with respect to total medals), winter event and overall?\n",
    "How many teams are present in all of the three lists above?"
   ]
  },
  {
   "cell_type": "code",
   "execution_count": 4,
   "metadata": {},
   "outputs": [
    {
     "name": "stdout",
     "output_type": "stream",
     "text": [
      "Top 10 Summer:\n",
      " ['United States', 'Soviet Union', 'Great Britain', 'France', 'Germany', 'Italy', 'Sweden', 'Hungary', 'China', 'Australia'] \n",
      "\n",
      "Top 10 Winter:\n",
      " ['Norway', 'United States', 'Austria', 'Germany', 'Soviet Union', 'Canada', 'Finland', 'Sweden', 'Switzerland', 'Russia'] \n",
      "\n",
      "Top 10:\n",
      " ['United States', 'Soviet Union', 'Great Britain', 'Germany', 'France', 'Italy', 'Sweden', 'China', 'East Germany', 'Russia'] \n",
      "\n",
      "Common Countries :\n",
      " ['Soviet Union', 'Germany', 'Sweden', 'United States'] \n",
      "\n"
     ]
    }
   ],
   "source": [
    "#Subsetting the dataframe\n",
    "top_countries=data[['Country_Name','Total_Summer', 'Total_Winter','Total_Medals']]\n",
    "\n",
    "#Dropping the last row\n",
    "top_countries=top_countries[:-1]\n",
    "\n",
    "#Function for top 10\n",
    "def top_ten(data, col):\n",
    "    \n",
    "    #Creating a new list\n",
    "    country_list=[]\n",
    "    \n",
    "    #Finding the top 10 values of 'col' column\n",
    "    country_list= list((data.nlargest(10,col)['Country_Name']))\n",
    "    \n",
    "    #Returning the top 10 list\n",
    "    return country_list\n",
    "\n",
    "\n",
    "\n",
    "#Calling the function for Top 10 in Summer\n",
    "top_10_summer=top_ten(top_countries,'Total_Summer')\n",
    "print(\"Top 10 Summer:\\n\",top_10_summer, \"\\n\")\n",
    "\n",
    "#Calling the function for Top 10 in Winter\n",
    "top_10_winter=top_ten(top_countries,'Total_Winter')\n",
    "print(\"Top 10 Winter:\\n\",top_10_winter, \"\\n\")\n",
    "\n",
    "#Calling the function for Top 10 in both the events\n",
    "top_10=top_ten(top_countries,'Total_Medals')\n",
    "print(\"Top 10:\\n\",top_10, \"\\n\")\n",
    "\n",
    "#Extracting common country names from all three lists\n",
    "common=list(set(top_10_summer) & set(top_10_winter) & set(top_10))\n",
    "\n",
    "print('Common Countries :\\n', common, \"\\n\")\n",
    "\n",
    "#Code ends here"
   ]
  },
  {
   "cell_type": "markdown",
   "metadata": {},
   "source": [
    "# Plotting Top 10\n",
    "From the lists that you have created from the previous task, let's plot the medal count of the top 10 countries for better visualisation"
   ]
  },
  {
   "cell_type": "code",
   "execution_count": 5,
   "metadata": {},
   "outputs": [
    {
     "data": {
      "text/plain": [
       "Text(0, 0.5, 'Total Medals')"
      ]
     },
     "execution_count": 5,
     "metadata": {},
     "output_type": "execute_result"
    },
    {
     "data": {
      "image/png": "[encoded data removed]",
      "text/plain": [
       "<Figure size 1440x432 with 1 Axes>"
      ]
     },
     "metadata": {
      "needs_background": "light"
     },
     "output_type": "display_data"
    },
    {
     "data": {
      "image/png": "[encoded data removed]",
      "text/plain": [
       "<Figure size 1440x432 with 1 Axes>"
      ]
     },
     "metadata": {
      "needs_background": "light"
     },
     "output_type": "display_data"
    },
    {
     "data": {
      "image/png": "[encoded data removed]",
      "text/plain": [
       "<Figure size 1440x432 with 1 Axes>"
      ]
     },
     "metadata": {
      "needs_background": "light"
     },
     "output_type": "display_data"
    }
   ],
   "source": [
    "#Code starts here\n",
    "\n",
    "#For Summer\n",
    "\n",
    "#Creating the dataframe for Summer event\n",
    "summer_df= data[data['Country_Name'].isin(top_10_summer)]\n",
    "\n",
    "#Plotting the bar graph\n",
    "plt.figure(figsize=(20, 6))\n",
    "plt.bar(summer_df['Country_Name'], summer_df['Total_Summer'])\n",
    "\n",
    "#Changing the graph title\n",
    "plt.title('Top 10 Summer')\n",
    "\n",
    "#Changing the x-axis label\n",
    "plt.xlabel('Country Name')\n",
    "\n",
    "#Changing the y-axis label\n",
    "plt.ylabel('Total Medals')\n",
    "\n",
    "\n",
    "#For Winter\n",
    "\n",
    "#Creating the dataframe for Winter event\n",
    "winter_df=data[data['Country_Name'].isin(top_10_winter)]\n",
    "\n",
    "#Plotting the bar graph\n",
    "plt.figure(figsize=(20, 6))\n",
    "plt.bar(winter_df['Country_Name'], winter_df['Total_Winter'])\n",
    "\n",
    "#Changing the graph title\n",
    "plt.title('Top 10 Winter')\n",
    "\n",
    "#Changing the x-axis label\n",
    "plt.xlabel('Country Name')\n",
    "\n",
    "#Changing the y-axis label\n",
    "plt.ylabel('Total Medals')\n",
    "\n",
    "\n",
    "\n",
    "#For both the events\n",
    "\n",
    "#Creating the dataframe for both the events\n",
    "top_df=data[data['Country_Name'].isin(top_10)]\n",
    "\n",
    "#Plotting the bar graph\n",
    "plt.figure(figsize=(20, 6))\n",
    "plt.bar(top_df['Country_Name'], top_df['Total_Medals'])\n",
    "\n",
    "#Changing the graph title\n",
    "plt.title('Top 10')\n",
    "\n",
    "#Changing the x-axis label\n",
    "plt.xlabel('Country Name')\n",
    "\n",
    "#Changing the y-axis label\n",
    "plt.ylabel('Total Medals')"
   ]
  },
  {
   "cell_type": "markdown",
   "metadata": {},
   "source": [
    "# Top performing country(Gold)\n",
    "Winning silver or bronze medals is a big achievement but winning gold is bigger.\n",
    "\n",
    "Using the above created dataframe subsets, in this task let's find out which country has had the best performance with respect to the ratio between gold medals won and total medals won."
   ]
  },
  {
   "cell_type": "code",
   "execution_count": 6,
   "metadata": {},
   "outputs": [
    {
     "name": "stdout",
     "output_type": "stream",
     "text": [
      "Top Summer Country: China  with a ratio of 0.42\n",
      "Top Winter Country: Soviet Union  with a ratio of 0.40\n",
      "Top Country: China  with a ratio of 0.40\n"
     ]
    },
    {
     "name": "stderr",
     "output_type": "stream",
     "text": [
      "D:\\anaconda\\lib\\site-packages\\ipykernel_launcher.py:4: SettingWithCopyWarning: \n",
      "A value is trying to be set on a copy of a slice from a DataFrame.\n",
      "Try using .loc[row_indexer,col_indexer] = value instead\n",
      "\n",
      "See the caveats in the documentation: http://pandas.pydata.org/pandas-docs/stable/indexing.html#indexing-view-versus-copy\n",
      "  after removing the cwd from sys.path.\n",
      "D:\\anaconda\\lib\\site-packages\\ipykernel_launcher.py:19: SettingWithCopyWarning: \n",
      "A value is trying to be set on a copy of a slice from a DataFrame.\n",
      "Try using .loc[row_indexer,col_indexer] = value instead\n",
      "\n",
      "See the caveats in the documentation: http://pandas.pydata.org/pandas-docs/stable/indexing.html#indexing-view-versus-copy\n",
      "D:\\anaconda\\lib\\site-packages\\ipykernel_launcher.py:34: SettingWithCopyWarning: \n",
      "A value is trying to be set on a copy of a slice from a DataFrame.\n",
      "Try using .loc[row_indexer,col_indexer] = value instead\n",
      "\n",
      "See the caveats in the documentation: http://pandas.pydata.org/pandas-docs/stable/indexing.html#indexing-view-versus-copy\n"
     ]
    }
   ],
   "source": [
    "#For Summer List\n",
    "\n",
    "#Creating new column 'Golden_Ratio'\n",
    "summer_df['Golden_Ratio']=summer_df['Gold_Summer']/summer_df['Total_Summer']\n",
    "\n",
    "\n",
    "#Finding the max value of 'Golden_Ratio' column\n",
    "summer_max_ratio=max(summer_df['Golden_Ratio'])\n",
    "\n",
    "#Finding the country assosciated with the max value of 'Golden_Ratio' column\n",
    "summer_country_gold=summer_df.loc[summer_df['Golden_Ratio'].idxmax(),'Country_Name']\n",
    "\n",
    "print(\"Top Summer Country:\", summer_country_gold, \" with a ratio of %.2f\" %summer_max_ratio )\n",
    "\n",
    "\n",
    "#For Winter List\n",
    "\n",
    "#Creating new column 'Golden_Ratio'\n",
    "winter_df['Golden_Ratio']=winter_df['Gold_Winter']/winter_df['Total_Winter']\n",
    "\n",
    "\n",
    "#Finding the max value of 'Golden_Ratio' column\n",
    "winter_max_ratio=max(winter_df['Golden_Ratio'])\n",
    "\n",
    "#Finding the country assosciated with the max value of 'Golden_Ratio' column\n",
    "winter_country_gold=winter_df.loc[winter_df['Golden_Ratio'].idxmax(),'Country_Name']\n",
    "\n",
    "print(\"Top Winter Country:\", winter_country_gold, \" with a ratio of %.2f\" %winter_max_ratio )\n",
    "\n",
    "\n",
    "#For Overall List\n",
    "\n",
    "#Creating new column 'Golden_Ratio'\n",
    "top_df['Golden_Ratio']=top_df['Gold_Total']/top_df['Total_Medals']\n",
    "\n",
    "#Finding the max value of 'Golden_Ratio' column\n",
    "top_max_ratio=max(top_df['Golden_Ratio'])\n",
    "\n",
    "#Finding the country assosciated with the max value of 'Golden_Ratio' column\n",
    "top_country_gold=top_df.loc[top_df['Golden_Ratio'].idxmax(),'Country_Name']\n",
    "\n",
    "print(\"Top Country:\", top_country_gold, \" with a ratio of %.2f\" %top_max_ratio )"
   ]
  },
  {
   "cell_type": "markdown",
   "metadata": {},
   "source": [
    "# Best in the world\n",
    "Best in the world\n",
    "Winning Gold is great but is winning most gold equivalent to being the best overall perfomer? Let's find out"
   ]
  },
  {
   "cell_type": "code",
   "execution_count": 7,
   "metadata": {},
   "outputs": [
    {
     "name": "stdout",
     "output_type": "stream",
     "text": [
      "The maximum points achieved is  5684  by  United States\n"
     ]
    },
    {
     "name": "stderr",
     "output_type": "stream",
     "text": [
      "D:\\anaconda\\lib\\site-packages\\ipykernel_launcher.py:5: SettingWithCopyWarning: \n",
      "A value is trying to be set on a copy of a slice from a DataFrame.\n",
      "Try using .loc[row_indexer,col_indexer] = value instead\n",
      "\n",
      "See the caveats in the documentation: http://pandas.pydata.org/pandas-docs/stable/indexing.html#indexing-view-versus-copy\n",
      "  \"\"\"\n"
     ]
    }
   ],
   "source": [
    "#Removing the last column of the dataframe\n",
    "data_1=data[:-1]\n",
    "\n",
    "#Creating a new column 'Total_Points'\n",
    "data_1['Total_Points']= data_1['Gold_Total']*3 + data_1['Silver_Total']*2 + data_1['Bronze_Total']*1  # Use of position index to handle the ambiguity of having same name columns\n",
    "\n",
    "\n",
    "#Finding the maximum value of 'Total_Points' column\n",
    "most_points=max(data_1['Total_Points'])\n",
    "\n",
    "#Finding the country assosciated with the max value of 'Total_Column' column\n",
    "best_country=data_1.loc[data_1['Total_Points'].idxmax(),'Country_Name']\n",
    "print('The maximum points achieved is ', most_points, ' by ', best_country )"
   ]
  },
  {
   "cell_type": "markdown",
   "metadata": {},
   "source": [
    "# Plot for the best\n",
    "We know which country is best when it comes to winning the most points in Olympic Games. Let's plot the medal count to visualise their success better."
   ]
  },
  {
   "cell_type": "code",
   "execution_count": 8,
   "metadata": {},
   "outputs": [
    {
     "data": {
      "image/png": "[encoded data removed]",
      "text/plain": [
       "<Figure size 720x432 with 1 Axes>"
      ]
     },
     "metadata": {
      "needs_background": "light"
     },
     "output_type": "display_data"
    }
   ],
   "source": [
    "#Subsetting the dataframe\n",
    "best=data[data['Country_Name']==best_country]\n",
    "best.reset_index(drop = True, inplace = True)\n",
    "best=best[['Gold_Total','Silver_Total','Bronze_Total']]\n",
    "\n",
    "\n",
    "#Plotting bar plot\n",
    "best.plot(kind='bar',stacked=True,figsize=(10,6))\n",
    "\n",
    "#Changing the x-axis label\n",
    "plt.xlabel('United States')\n",
    "\n",
    "#Changing the y-axis label\n",
    "plt.ylabel('Medals Tally')\n",
    "\n",
    "#Rotating the ticks of X-axis\n",
    "plt.xticks(rotation=45)\n",
    "\n",
    "#Updating the graph legend\n",
    "l=plt.legend()\n",
    "l.get_texts()[0].set_text('Gold_Total :' + str(best['Gold_Total'].values))\n",
    "l.get_texts()[1].set_text('Silver_Total :' + str(best['Silver_Total'].values))\n",
    "l.get_texts()[2].set_text('Bronze_Total :' + str(best['Bronze_Total'].values))"
   ]
  }
 ],
 "metadata": {
  "kernelspec": {
   "display_name": "Python 3",
   "language": "python",
   "name": "python3"
  },
  "language_info": {
   "codemirror_mode": {
    "name": "ipython",
    "version": 3
   },
   "file_extension": ".py",
   "mimetype": "text/x-python",
   "name": "python",
   "nbconvert_exporter": "python",
   "pygments_lexer": "ipython3",
   "version": "3.7.3"
  }
 },
 "nbformat": 4,
 "nbformat_minor": 2
}
