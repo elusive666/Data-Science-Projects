{
 "cells": [
  {
   "cell_type": "code",
   "execution_count": 1,
   "metadata": {},
   "outputs": [],
   "source": [
    "# import libraries\n",
    "import numpy as np\n",
    "import pandas as pd\n",
    "import re"
   ]
  },
  {
   "cell_type": "markdown",
   "metadata": {},
   "source": [
    "# Load and preprocess data"
   ]
  },
  {
   "cell_type": "code",
   "execution_count": 2,
   "metadata": {},
   "outputs": [
    {
     "name": "stdout",
     "output_type": "stream",
     "text": [
      "(331100, 2)\n"
     ]
    },
    {
     "data": {
      "text/html": [
       "<div>\n",
       "<style scoped>\n",
       "    .dataframe tbody tr th:only-of-type {\n",
       "        vertical-align: middle;\n",
       "    }\n",
       "\n",
       "    .dataframe tbody tr th {\n",
       "        vertical-align: top;\n",
       "    }\n",
       "\n",
       "    .dataframe thead th {\n",
       "        text-align: right;\n",
       "    }\n",
       "</style>\n",
       "<table border=\"1\" class=\"dataframe\">\n",
       "  <thead>\n",
       "    <tr style=\"text-align: right;\">\n",
       "      <th></th>\n",
       "      <th>publish_date</th>\n",
       "      <th>headline_text</th>\n",
       "    </tr>\n",
       "  </thead>\n",
       "  <tbody>\n",
       "    <tr>\n",
       "      <th>286211</th>\n",
       "      <td>2003-02-19</td>\n",
       "      <td>police defend aboriginal tent embassy raid</td>\n",
       "    </tr>\n",
       "    <tr>\n",
       "      <th>180156</th>\n",
       "      <td>2003-02-19</td>\n",
       "      <td>talk of asian nuclear arms race unhelpful downer</td>\n",
       "    </tr>\n",
       "    <tr>\n",
       "      <th>233845</th>\n",
       "      <td>2003-02-19</td>\n",
       "      <td>taipans placing future in publics hands</td>\n",
       "    </tr>\n",
       "    <tr>\n",
       "      <th>170928</th>\n",
       "      <td>2003-02-19</td>\n",
       "      <td>most highly educated live in nsw wa</td>\n",
       "    </tr>\n",
       "    <tr>\n",
       "      <th>245529</th>\n",
       "      <td>2003-02-19</td>\n",
       "      <td>six palestinians killed in gaza incursion</td>\n",
       "    </tr>\n",
       "  </tbody>\n",
       "</table>\n",
       "</div>"
      ],
      "text/plain": [
       "       publish_date                                     headline_text\n",
       "286211   2003-02-19        police defend aboriginal tent embassy raid\n",
       "180156   2003-02-19  talk of asian nuclear arms race unhelpful downer\n",
       "233845   2003-02-19           taipans placing future in publics hands\n",
       "170928   2003-02-19               most highly educated live in nsw wa\n",
       "245529   2003-02-19         six palestinians killed in gaza incursion"
      ]
     },
     "execution_count": 2,
     "metadata": {},
     "output_type": "execute_result"
    }
   ],
   "source": [
    "# Load data\n",
    "data = pd.read_csv('./tpmodel.csv',parse_dates=[0], infer_datetime_format=True)\n",
    "\n",
    "# Sort headlines by date of publish\n",
    "data.sort_values('publish_date', inplace=True)\n",
    "\n",
    "# Retain only alphabets\n",
    "data['headline_text'] = data['headline_text'].apply(lambda x : re.sub('[^a-zA-Z]', ' ',x))\n",
    "\n",
    "# Look at the shape of data\n",
    "print(data.shape)\n",
    "\n",
    "# Look at the first first five observations\n",
    "data.head()"
   ]
  },
  {
   "cell_type": "markdown",
   "metadata": {},
   "source": [
    "# Which is the most frequently occurring word in the document?"
   ]
  },
  {
   "cell_type": "code",
   "execution_count": 3,
   "metadata": {},
   "outputs": [
    {
     "name": "stdout",
     "output_type": "stream",
     "text": [
      "[('police', 10752), ('new', 8599), ('man', 8368), ('says', 5987), ('govt', 5048), ('court', 4898), ('council', 4856), ('interview', 4552), ('nsw', 3831), ('australia', 3765), ('plan', 3702), ('water', 3633), ('qld', 3456), ('wa', 3412), ('crash', 3354), ('death', 3338), ('sydney', 3195), ('australian', 3179), ('health', 3118), ('charged', 2993)]\n",
      "['police', 'new', 'man', 'says', 'govt', 'court', 'council', 'interview', 'nsw', 'australia', 'plan', 'water', 'qld', 'wa', 'crash', 'death', 'sydney', 'australian', 'health', 'charged']\n",
      "[10752, 8599, 8368, 5987, 5048, 4898, 4856, 4552, 3831, 3765, 3702, 3633, 3456, 3412, 3354, 3338, 3195, 3179, 3118, 2993]\n"
     ]
    }
   ],
   "source": [
    "# import libraries\n",
    "import matplotlib.pyplot as plt\n",
    "import seaborn as sns\n",
    "import operator\n",
    "from sklearn.feature_extraction.text import CountVectorizer\n",
    "\n",
    "# Initialize CountVectorizer\n",
    "vectorizer = CountVectorizer(stop_words='english',max_features=30000)\n",
    "\n",
    "# Transform headlines\n",
    "news = vectorizer.fit_transform(data['headline_text'])\n",
    "# print(news)\n",
    "# initialize empty dictionary\n",
    "words= {}\n",
    "\n",
    "# initialize with 0\n",
    "i=0\n",
    "\n",
    "# Number of time every feature appears over the entire document\n",
    "sums = np.array(np.sum(news, axis=0)).flatten()\n",
    "\n",
    "# Loop to map 'sums' to its word\n",
    "for word in vectorizer.get_feature_names():\n",
    "    words[word] = sums[i]\n",
    "    i += 1\n",
    "\n",
    "# Top 20 most occuring words\n",
    "top_20 = sorted(words.items(), key=operator.itemgetter(1), reverse=True)[:20]\n",
    "print(top_20)\n",
    "\n",
    "# Display top 20 words\n",
    "top_20_words = [i[0] for i in top_20]\n",
    "print(top_20_words)\n",
    "top_20_values = [i[1] for i in top_20]\n",
    "print(top_20_values)"
   ]
  },
  {
   "cell_type": "markdown",
   "metadata": {},
   "source": [
    "# Topic Modelling with LSA"
   ]
  },
  {
   "cell_type": "code",
   "execution_count": 4,
   "metadata": {},
   "outputs": [
    {
     "name": "stdout",
     "output_type": "stream",
     "text": [
      "(331100, 5)\n",
      "{'Topic 0': 'police*0.8601893055234298 + man*0.37687390961080497 + '\n",
      "            'new*0.1227185188122044 + court*0.0872544186581946 + '\n",
      "            'charged*0.07895772747439225 + murder*0.07057005753940078 + '\n",
      "            'car*0.0680006616803336 + crash*0.06584004218944989 + '\n",
      "            'death*0.06572026639969186 + missing*0.06449235428724628',\n",
      " 'Topic 1': 'man*0.7879343660154949 + new*0.1921627897748478 + '\n",
      "            'court*0.18899897199945212 + charged*0.16465801643349426 + '\n",
      "            'murder*0.09487034753362916 + accused*0.06813694764641615 + '\n",
      "            'dies*0.06019737315016837 + jailed*0.05319720923467172 + '\n",
      "            'guilty*0.048466720132486804 + face*0.04514251661316618',\n",
      " 'Topic 2': 'new*0.935995019854239 + says*0.07749707449614436 + '\n",
      "            'council*0.0720768218002374 + govt*0.07006061280055194 + '\n",
      "            'plan*0.042968652525608116 + zealand*0.04093995686187884 + '\n",
      "            'australia*0.03657006404471675 + laws*0.034839200487652204 + '\n",
      "            'wa*0.03471197141117573 + water*0.03351771268681026',\n",
      " 'Topic 3': 'says*0.7964206405018419 + govt*0.3475660937899354 + '\n",
      "            'council*0.17563972079881965 + plan*0.11494711911617309 + '\n",
      "            'nsw*0.09394935272344823 + water*0.09240524400252727 + '\n",
      "            'qld*0.09213172396303189 + wa*0.08420836644225453 + '\n",
      "            'health*0.06971247854025148 + urged*0.06168945950868236',\n",
      " 'Topic 4': 'govt*0.5228696280195044 + council*0.4047250183488205 + '\n",
      "            'court*0.23837403866675944 + plan*0.15194531896791239 + '\n",
      "            'nsw*0.14275668193264393 + health*0.11707848880147916 + '\n",
      "            'urged*0.10441379415285208 + water*0.07876063606030415 + '\n",
      "            'qld*0.07356945094004504 + accused*0.06597753143431338'}\n"
     ]
    }
   ],
   "source": [
    "# import libraries\n",
    "from sklearn.decomposition import TruncatedSVD, LatentDirichletAllocation\n",
    "import pprint\n",
    "\n",
    "# number of topics\n",
    "n_topics = 5 \n",
    "\n",
    "# initialize SVD \n",
    "lsa_model = TruncatedSVD(n_components=n_topics, random_state=2)\n",
    "\n",
    "# fit and transform 'news' \n",
    "lsa_topic_matrix = lsa_model.fit_transform(news)\n",
    "print(lsa_topic_matrix.shape)\n",
    "\n",
    "'''We are not interested in knowing every word of a topic.\n",
    "Instead, we want to look at the first (lets say) 10 words\n",
    "of a topic'''\n",
    "\n",
    "# empty dictionary to store topic number and top 10 words for every topic \n",
    "topic_lsa = {}\n",
    "\n",
    "# loop over every topic\n",
    "for i, topic in enumerate(lsa_model.components_):\n",
    "    key = \"Topic {}\".format(i)\n",
    "    value = [(vectorizer.get_feature_names()[i] + '*' + str(topic[i])) for i in topic.argsort()[:-11:-1]]\n",
    "    topic_lsa[key] = ' + '.join(value)\n",
    "# pretty print topics\n",
    "pprint.pprint(topic_lsa)"
   ]
  },
  {
   "cell_type": "markdown",
   "metadata": {},
   "source": [
    "# Topic Modelling with LDA"
   ]
  },
  {
   "cell_type": "code",
   "execution_count": 5,
   "metadata": {},
   "outputs": [
    {
     "data": {
      "text/plain": [
       "[(0,\n",
       "  '0.013*\"australia\" + 0.011*\"south\" + 0.011*\"adelaide\" + 0.009*\"election\" + 0.009*\"first\" + 0.008*\"new\" + 0.008*\"council\" + 0.008*\"open\" + 0.008*\"take\" + 0.007*\"turnbull\"'),\n",
       " (1,\n",
       "  '0.014*\"new\" + 0.013*\"wa\" + 0.013*\"nsw\" + 0.012*\"government\" + 0.011*\"call\" + 0.011*\"queensland\" + 0.010*\"say\" + 0.008*\"canberra\" + 0.008*\"sa\" + 0.008*\"school\"'),\n",
       " (2,\n",
       "  '0.017*\"man\" + 0.016*\"police\" + 0.015*\"woman\" + 0.010*\"death\" + 0.010*\"world\" + 0.010*\"sydney\" + 0.008*\"perth\" + 0.008*\"day\" + 0.008*\"one\" + 0.008*\"year\"'),\n",
       " (3,\n",
       "  '0.017*\"trump\" + 0.015*\"u\" + 0.014*\"say\" + 0.012*\"child\" + 0.012*\"melbourne\" + 0.008*\"australian\" + 0.008*\"australia\" + 0.007*\"donald\" + 0.007*\"china\" + 0.007*\"interview\"'),\n",
       " (4,\n",
       "  '0.012*\"court\" + 0.009*\"murder\" + 0.009*\"sex\" + 0.008*\"market\" + 0.008*\"family\" + 0.008*\"change\" + 0.007*\"help\" + 0.007*\"australian\" + 0.006*\"job\" + 0.006*\"cut\"')]"
      ]
     },
     "execution_count": 5,
     "metadata": {},
     "output_type": "execute_result"
    }
   ],
   "source": [
    "# import libraries\n",
    "import nltk\n",
    "import gensim\n",
    "import gensim.corpora as corpora\n",
    "from gensim.utils import simple_preprocess\n",
    "from gensim.models import CoherenceModel\n",
    "from gensim.models.ldamodel import LdaModel\n",
    "from gensim.utils import simple_preprocess\n",
    "from nltk import word_tokenize\n",
    "from nltk.corpus import stopwords \n",
    "from nltk.stem.wordnet import WordNetLemmatizer\n",
    "import string\n",
    "import matplotlib.pyplot as plt\n",
    "\n",
    "# Function to clean data from stopwords, punctuation marks and lemmatize\n",
    "def clean(doc):\n",
    "    stop_free = \" \".join([i for i in doc.lower().split() if i not in stop])\n",
    "    punc_free = ''.join(ch for ch in stop_free if ch not in exclude)\n",
    "    normalized = \" \".join(lemma.lemmatize(word) for word in punc_free.split())\n",
    "    return normalized\n",
    "\n",
    "\n",
    "# Code starts here\n",
    "\n",
    "# stopwords list\n",
    "stop = set(stopwords.words('english'))\n",
    "\n",
    "# string punctuations \n",
    "exclude = set(string.punctuation)\n",
    "\n",
    "# lemmatizer\n",
    "lemma = WordNetLemmatizer()\n",
    "\n",
    "# convert headlines to list\n",
    "headlines = data['headline_text'].tolist()\n",
    "\n",
    "# cleaned data\n",
    "clean_headlines = [clean(doc).split() for doc in headlines]\n",
    "\n",
    "# Creating the term dictionary of our courpus, where every unique term is assigned an index\n",
    "dictionary = corpora.Dictionary(clean_headlines)\n",
    "\n",
    "# Converting list of documents (corpus) into Document Term Matrix using dictionary prepared above.\n",
    "doc_term_matrix = [dictionary.doc2bow(doc) for doc in clean_headlines]\n",
    "\n",
    "# build LDA model\n",
    "lda_model = LdaModel(doc_term_matrix, num_topics=5, id2word = dictionary, iterations=10, random_state=2)\n",
    "\n",
    "# extract topics for headlines\n",
    "topics = lda_model.print_topics(num_topics=5, num_words=10)\n",
    "\n",
    "# pprint topics\n",
    "topics\n",
    "\n",
    "# Code ends here"
   ]
  },
  {
   "cell_type": "markdown",
   "metadata": {},
   "source": [
    "# Coherence score to determine the optimum number of topics"
   ]
  },
  {
   "cell_type": "code",
   "execution_count": 8,
   "metadata": {},
   "outputs": [
    {
     "name": "stdout",
     "output_type": "stream",
     "text": [
      "0.2817006151285487\n"
     ]
    }
   ],
   "source": [
    "# coherence score\n",
    "coherence_model_lda = CoherenceModel(model=lda_model, texts=clean_headlines, \n",
    "                                     dictionary=dictionary,coherence='c_v')\n",
    "\n",
    "coherence_lda = coherence_model_lda.get_coherence()\n",
    "print(coherence_lda)\n",
    "# Function to calculate coherence values\n",
    "def compute_coherence_values(dictionary, corpus, texts, limit, start=2, step=3):\n",
    "    \"\"\"\n",
    "    Compute c_v coherence for various number of topics\n",
    "\n",
    "    Parameters:\n",
    "    ----------\n",
    "    dictionary : Gensim dictionary\n",
    "    corpus : Gensim corpus\n",
    "    texts : List of input texts\n",
    "    limit : Max num of topics\n",
    "\n",
    "    Returns:\n",
    "    -------\n",
    "    model_list : List of LDA topic models\n",
    "    coherence_values : Coherence values corresponding to the LDA model with respective number of topics\n",
    "    \"\"\"\n",
    "    coherence_values = []\n",
    "    model_list = [] \n",
    "    for num_topics in range(start,limit,step):\n",
    "        model = gensim.models.ldamodel.LdaModel(doc_term_matrix, num_topics=num_topics, random_state=2,                                                     id2word=dictionary,iterations=10)\n",
    "        model_list.append(model)\n",
    "        coherence_model = CoherenceModel(model=model, texts=texts,dictionary=dictionary,coherence='c_v')\n",
    "        coherence_values.append(coherence_model.get_coherence())\n",
    "    return model_list,coherence_values\n",
    "    \n",
    "# Can take a long time to run\n",
    "model_list,coherence_values = compute_coherence_values(dictionary=dictionary, corpus=doc_term_matrix,texts=clean_headlines, start=2, limit=50, step=6)\n"
   ]
  },
  {
   "cell_type": "markdown",
   "metadata": {},
   "source": [
    "# Optimal Number of Topics"
   ]
  },
  {
   "cell_type": "code",
   "execution_count": 9,
   "metadata": {},
   "outputs": [
    {
     "data": {
      "image/png": "[encoded data removed]",
      "text/plain": [
       "<Figure size 432x288 with 1 Axes>"
      ]
     },
     "metadata": {
      "needs_background": "light"
     },
     "output_type": "display_data"
    }
   ],
   "source": [
    "x = np.arange(2,50,6)\n",
    "\n",
    "# Plotting\n",
    "plt. plot(x, coherence_values)\n",
    "plt.xlabel('Num Topics')\n",
    "plt.xlabel('Coherence score')\n",
    "plt.show()"
   ]
  }
 ],
 "metadata": {
  "kernelspec": {
   "display_name": "Python [conda env:Python]",
   "language": "python",
   "name": "conda-env-Python-py"
  },
  "language_info": {
   "codemirror_mode": {
    "name": "ipython",
    "version": 3
   },
   "file_extension": ".py",
   "mimetype": "text/x-python",
   "name": "python",
   "nbconvert_exporter": "python",
   "pygments_lexer": "ipython3",
   "version": "3.7.4"
  }
 },
 "nbformat": 4,
 "nbformat_minor": 4
}
